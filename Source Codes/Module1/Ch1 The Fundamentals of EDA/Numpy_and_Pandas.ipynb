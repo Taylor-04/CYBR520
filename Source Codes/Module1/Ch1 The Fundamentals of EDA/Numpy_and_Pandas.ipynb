{
 "cells": [
  {
   "cell_type": "markdown",
   "metadata": {
    "colab_type": "text",
    "id": "EgrClAlpC8s-"
   },
   "source": [
    "# Python Basic operations"
   ]
  },
  {
   "cell_type": "code",
   "execution_count": 1,
   "metadata": {
    "colab": {
     "base_uri": "https://localhost:8080/",
     "height": 34
    },
    "colab_type": "code",
    "id": "ZuQjJSf9C0ko",
    "outputId": "0289376d-5b39-4737-9ea4-c0e8897fc8f3"
   },
   "outputs": [
    {
     "name": "stdout",
     "output_type": "stream",
     "text": [
      "Mental Health Diseases: Social Anxiety Disorder\n"
     ]
    }
   ],
   "source": [
    "class Disease:\n",
    "  def __init__(self, disease = 'Depression'):\n",
    "    self.type = disease\n",
    "    \n",
    "  def getName(self):\n",
    "    print(\"Mental Health Diseases: {0}\".format(self.type))\n",
    "\n",
    "d1 = Disease('Social Anxiety Disorder')\n",
    "d1.getName()"
   ]
  },
  {
   "cell_type": "code",
   "execution_count": 10,
   "metadata": {
    "colab": {
     "base_uri": "https://localhost:8080/",
     "height": 34
    },
    "colab_type": "code",
    "id": "kTyrcThEDCIU",
    "outputId": "65d7db92-cd4f-448b-bb59-a1cd1a011845"
   },
   "outputs": [
    {
     "name": "stdout",
     "output_type": "stream",
     "text": [
      "Well, the variable y is not defined\n"
     ]
    }
   ],
   "source": [
    "# Try Catch Block\n",
    "# The try block will generate a NameError, because x is not defined:\n",
    "\n",
    "try:\n",
    "  print(y)\n",
    "except NameError:\n",
    "  print(\"Well, the variable y is not defined\")\n",
    "except:\n",
    "  print(\"OMG, Something else went wrong\")\n"
   ]
  },
  {
   "cell_type": "code",
   "execution_count": 14,
   "metadata": {
    "colab": {
     "base_uri": "https://localhost:8080/",
     "height": 51
    },
    "colab_type": "code",
    "id": "iGbKigYzD4rM",
    "outputId": "c1270b91-ce4b-42b2-b8f0-53edf3c0e7b6"
   },
   "outputs": [
    {
     "name": "stdout",
     "output_type": "stream",
     "text": [
      "Type a number between 1 and 10:11\n",
      "The value you typed is incorrect!\n"
     ]
    }
   ],
   "source": [
    "\n",
    "try:\n",
    " Value = int(input(\"Type a number between 1 and 10:\"))\n",
    "except ValueError:\n",
    "  print(\"You must type a number between 1 and 10!\")\n",
    "else:\n",
    "  if (Value > 0) and (Value <= 10):\n",
    "      print(\"You typed: \", Value)\n",
    "  else:\n",
    "      print(\"The value you typed is incorrect!\")\n"
   ]
  },
  {
   "cell_type": "markdown",
   "metadata": {
    "colab_type": "text",
    "id": "xNPYSP_aDxgz"
   },
   "source": [
    "# Numpy Array Basics"
   ]
  },
  {
   "cell_type": "code",
   "execution_count": 19,
   "metadata": {
    "colab": {
     "base_uri": "https://localhost:8080/",
     "height": 170
    },
    "colab_type": "code",
    "id": "GVMckxhaDsrH",
    "outputId": "e2a06eb3-b689-4e96-e66c-aefb8f740a53"
   },
   "outputs": [],
   "source": [
    "# importing numpy\n",
    "import numpy as np"
   ]
  },
  {
   "cell_type": "code",
   "execution_count": 20,
   "metadata": {},
   "outputs": [],
   "source": [
    "# Defining 1D array\n",
    "my1DArray = np.array([1, 8, 27, 64])"
   ]
  },
  {
   "cell_type": "code",
   "execution_count": 21,
   "metadata": {},
   "outputs": [
    {
     "name": "stdout",
     "output_type": "stream",
     "text": [
      "[ 1  8 27 64]\n"
     ]
    }
   ],
   "source": [
    "print(my1DArray)"
   ]
  },
  {
   "cell_type": "code",
   "execution_count": null,
   "metadata": {},
   "outputs": [],
   "source": []
  },
  {
   "cell_type": "code",
   "execution_count": 22,
   "metadata": {},
   "outputs": [
    {
     "name": "stdout",
     "output_type": "stream",
     "text": [
      "[[ 1  2  3  4]\n",
      " [ 2  4  9 16]\n",
      " [ 4  8 18 32]]\n"
     ]
    }
   ],
   "source": [
    "# Defining and printing 2D array\n",
    "my2DArray = np.array([[1, 2, 3, 4], [2, 4, 9, 16], [4, 8, 18, 32]])\n",
    "print(my2DArray)"
   ]
  },
  {
   "cell_type": "code",
   "execution_count": 26,
   "metadata": {},
   "outputs": [
    {
     "name": "stdout",
     "output_type": "stream",
     "text": [
      "[[[ 1  2  3  4]\n",
      "  [ 5  6  7  8]]\n",
      "\n",
      " [[ 1  2  3  4]\n",
      "  [ 9 10 11 12]]]\n"
     ]
    }
   ],
   "source": [
    "#Defining and printing 3D array\n",
    "my3Darray = np.array([[[ 1, 2 , 3 , 4],[ 5 , 6 , 7  ,8]], [[ 1,  2,  3,  4],[ 9, 10, 11, 12]]])\n",
    "print(my3Darray)\n"
   ]
  },
  {
   "cell_type": "code",
   "execution_count": 27,
   "metadata": {
    "colab": {
     "base_uri": "https://localhost:8080/",
     "height": 85
    },
    "colab_type": "code",
    "id": "FOHcYUkkF2u-",
    "outputId": "a504d500-aeb6-40cc-aa63-0590900b2a77"
   },
   "outputs": [
    {
     "name": "stdout",
     "output_type": "stream",
     "text": [
      "<memory at 0x000001C23179B100>\n"
     ]
    }
   ],
   "source": [
    "# Print out memory address\n",
    "print(my2DArray.data)\n",
    "\n"
   ]
  },
  {
   "cell_type": "code",
   "execution_count": 28,
   "metadata": {},
   "outputs": [
    {
     "name": "stdout",
     "output_type": "stream",
     "text": [
      "(2, 2, 4)\n"
     ]
    }
   ],
   "source": [
    "# Print the shape of array\n",
    "print(my3Darray.shape)\n"
   ]
  },
  {
   "cell_type": "code",
   "execution_count": 29,
   "metadata": {},
   "outputs": [
    {
     "name": "stdout",
     "output_type": "stream",
     "text": [
      "int32\n"
     ]
    }
   ],
   "source": [
    "# Print out the data type of the array\n",
    "print(my2DArray.dtype)\n"
   ]
  },
  {
   "cell_type": "code",
   "execution_count": 30,
   "metadata": {},
   "outputs": [
    {
     "name": "stdout",
     "output_type": "stream",
     "text": [
      "(16, 4)\n"
     ]
    }
   ],
   "source": [
    "\"\"\"\n",
    "Print the stride of the array.\n",
    "\n",
    "So what is stride of array?  It is the number of locations in memory between \n",
    "beginnings of successive array elements, measured in bytes or in units of the\n",
    "size of the array's elements\n",
    "\"\"\"\n",
    "print(my2DArray.strides)"
   ]
  },
  {
   "cell_type": "code",
   "execution_count": null,
   "metadata": {},
   "outputs": [],
   "source": []
  },
  {
   "cell_type": "markdown",
   "metadata": {
    "colab_type": "text",
    "id": "_tan6CTdpvH3"
   },
   "source": [
    "# Array using numpy built-in functions"
   ]
  },
  {
   "cell_type": "code",
   "execution_count": 16,
   "metadata": {
    "colab": {
     "base_uri": "https://localhost:8080/",
     "height": 306
    },
    "colab_type": "code",
    "id": "hXg80w6Wpsqd",
    "outputId": "c19ade55-5dcd-4477-c7bb-f57e566d6cd4"
   },
   "outputs": [
    {
     "name": "stdout",
     "output_type": "stream",
     "text": [
      "[[1. 1. 1. 1.]\n",
      " [1. 1. 1. 1.]\n",
      " [1. 1. 1. 1.]]\n"
     ]
    }
   ],
   "source": [
    "# Array of ones\n",
    "ones = np.ones((3,4))\n",
    "print(ones)\n",
    "\n"
   ]
  },
  {
   "cell_type": "code",
   "execution_count": 17,
   "metadata": {},
   "outputs": [
    {
     "name": "stdout",
     "output_type": "stream",
     "text": [
      "[[[0 0 0 0]\n",
      "  [0 0 0 0]\n",
      "  [0 0 0 0]]\n",
      "\n",
      " [[0 0 0 0]\n",
      "  [0 0 0 0]\n",
      "  [0 0 0 0]]]\n"
     ]
    }
   ],
   "source": [
    "# Array of zeros\n",
    "zeros = np.zeros((2,3,4),dtype=np.int16)\n",
    "print(zeros)\n"
   ]
  },
  {
   "cell_type": "code",
   "execution_count": 37,
   "metadata": {},
   "outputs": [
    {
     "data": {
      "text/plain": [
       "array([[0.22596647, 0.30212716],\n",
       "       [0.40525479, 0.62602942]])"
      ]
     },
     "execution_count": 37,
     "metadata": {},
     "output_type": "execute_result"
    }
   ],
   "source": [
    "\n",
    "# Array with random values\n",
    "np.random.random((2,2))\n"
   ]
  },
  {
   "cell_type": "code",
   "execution_count": 40,
   "metadata": {},
   "outputs": [
    {
     "name": "stdout",
     "output_type": "stream",
     "text": [
      "[[9.34577196e-307 9.34598246e-307]\n",
      " [1.60218491e-306 1.69119873e-306]\n",
      " [1.24611673e-306 1.22387635e-307]]\n"
     ]
    }
   ],
   "source": [
    "\n",
    "# Empty array\n",
    "emptyArray = np.empty((3,2))\n",
    "print(emptyArray)\n"
   ]
  },
  {
   "cell_type": "code",
   "execution_count": 45,
   "metadata": {},
   "outputs": [
    {
     "name": "stdout",
     "output_type": "stream",
     "text": [
      "[[7 7]\n",
      " [7 7]]\n"
     ]
    }
   ],
   "source": [
    "\n",
    "# Full array\n",
    "fullArray = np.full((2,2),7)\n",
    "print(fullArray)\n"
   ]
  },
  {
   "cell_type": "code",
   "execution_count": 46,
   "metadata": {},
   "outputs": [
    {
     "name": "stdout",
     "output_type": "stream",
     "text": [
      "[10 15 20]\n"
     ]
    }
   ],
   "source": [
    "\n",
    "# Array of evenly-spaced values\n",
    "evenSpacedArray = np.arange(10,25,5)\n",
    "print(evenSpacedArray)\n"
   ]
  },
  {
   "cell_type": "code",
   "execution_count": 51,
   "metadata": {},
   "outputs": [
    {
     "name": "stdout",
     "output_type": "stream",
     "text": [
      "[0.         0.10526316 0.21052632 0.31578947 0.42105263 0.52631579\n",
      " 0.63157895 0.73684211 0.84210526 0.94736842 1.05263158 1.15789474\n",
      " 1.26315789 1.36842105 1.47368421 1.57894737 1.68421053 1.78947368\n",
      " 1.89473684 2.        ]\n"
     ]
    }
   ],
   "source": [
    "\n",
    "# Array of evenly-spaced values\n",
    "evenSpacedArray2 = np.linspace(0,2,20)\n",
    "print(evenSpacedArray2)"
   ]
  },
  {
   "cell_type": "markdown",
   "metadata": {
    "colab_type": "text",
    "id": "0VMNmT2BqjtF"
   },
   "source": [
    "# Numpy array and file operations"
   ]
  },
  {
   "cell_type": "code",
   "execution_count": 55,
   "metadata": {
    "colab": {
     "base_uri": "https://localhost:8080/",
     "height": 139
    },
    "colab_type": "code",
    "id": "87k4xazaqeD7",
    "outputId": "37d23b09-4830-4330-c115-73a0cf87f0bd"
   },
   "outputs": [],
   "source": [
    "# Save a numpy array into file\n",
    "x = np.arange(0.0,50.0,1.0)"
   ]
  },
  {
   "cell_type": "code",
   "execution_count": 57,
   "metadata": {},
   "outputs": [
    {
     "data": {
      "text/plain": [
       "50"
      ]
     },
     "execution_count": 57,
     "metadata": {},
     "output_type": "execute_result"
    }
   ],
   "source": [
    "len(x)"
   ]
  },
  {
   "cell_type": "code",
   "execution_count": 59,
   "metadata": {},
   "outputs": [],
   "source": [
    "np.savetxt('data.txt', x, delimiter=',')\n"
   ]
  },
  {
   "cell_type": "code",
   "execution_count": 60,
   "metadata": {},
   "outputs": [
    {
     "name": "stdout",
     "output_type": "stream",
     "text": [
      "[ 0.  1.  2.  3.  4.  5.  6.  7.  8.  9. 10. 11. 12. 13. 14. 15. 16. 17.\n",
      " 18. 19. 20. 21. 22. 23. 24. 25. 26. 27. 28. 29. 30. 31. 32. 33. 34. 35.\n",
      " 36. 37. 38. 39. 40. 41. 42. 43. 44. 45. 46. 47. 48. 49.]\n"
     ]
    }
   ],
   "source": [
    "# Loading numpy array from text\n",
    "z = np.loadtxt('data.txt', unpack=True)\n",
    "print(z)\n",
    "\n"
   ]
  },
  {
   "cell_type": "code",
   "execution_count": 71,
   "metadata": {},
   "outputs": [],
   "source": [
    "# Loading numpy array using genfromtxt method\n",
    "my_array2 = np.genfromtxt('data.out',\n",
    "                      skip_header=20,\n",
    "                      filling_values=-999)\n"
   ]
  },
  {
   "cell_type": "code",
   "execution_count": 72,
   "metadata": {},
   "outputs": [
    {
     "name": "stdout",
     "output_type": "stream",
     "text": [
      "[20. 21. 22. 23. 24. 25. 26. 27. 28. 29. 30. 31. 32. 33. 34. 35. 36. 37.\n",
      " 38. 39. 40. 41. 42. 43. 44. 45. 46. 47. 48. 49.]\n"
     ]
    }
   ],
   "source": [
    "print(my_array2)"
   ]
  },
  {
   "cell_type": "markdown",
   "metadata": {
    "colab_type": "text",
    "id": "laHX9HM7rd_h"
   },
   "source": [
    "# Inspecting numpy arrays\n"
   ]
  },
  {
   "cell_type": "code",
   "execution_count": 73,
   "metadata": {
    "colab": {
     "base_uri": "https://localhost:8080/",
     "height": 204
    },
    "colab_type": "code",
    "id": "hus66cO8rlm6",
    "outputId": "8944dcdd-e851-4d07-bac7-4b11b1539b27"
   },
   "outputs": [
    {
     "name": "stdout",
     "output_type": "stream",
     "text": [
      "2\n"
     ]
    }
   ],
   "source": [
    "# Print the number of `my2DArray`'s dimensions\n",
    "print(my2DArray.ndim)\n"
   ]
  },
  {
   "cell_type": "code",
   "execution_count": 74,
   "metadata": {},
   "outputs": [
    {
     "name": "stdout",
     "output_type": "stream",
     "text": [
      "12\n"
     ]
    }
   ],
   "source": [
    "\n",
    "# Print the number of `my2DArray`'s elements\n",
    "print(my2DArray.size)\n"
   ]
  },
  {
   "cell_type": "code",
   "execution_count": 75,
   "metadata": {},
   "outputs": [
    {
     "name": "stdout",
     "output_type": "stream",
     "text": [
      "  C_CONTIGUOUS : True\n",
      "  F_CONTIGUOUS : False\n",
      "  OWNDATA : True\n",
      "  WRITEABLE : True\n",
      "  ALIGNED : True\n",
      "  WRITEBACKIFCOPY : False\n",
      "\n"
     ]
    }
   ],
   "source": [
    "\n",
    "# Print information about `my2DArray`'s memory layout\n",
    "print(my2DArray.flags)\n"
   ]
  },
  {
   "cell_type": "code",
   "execution_count": 34,
   "metadata": {},
   "outputs": [
    {
     "name": "stdout",
     "output_type": "stream",
     "text": [
      "4\n"
     ]
    }
   ],
   "source": [
    "\n",
    "# Print the length of one array element in bytes\n",
    "print(my2DArray.itemsize)\n"
   ]
  },
  {
   "cell_type": "code",
   "execution_count": 35,
   "metadata": {},
   "outputs": [
    {
     "name": "stdout",
     "output_type": "stream",
     "text": [
      "48\n"
     ]
    }
   ],
   "source": [
    "\n",
    "# Print the total consumed bytes by `my2DArray`'s elements\n",
    "print(my2DArray.nbytes)"
   ]
  },
  {
   "cell_type": "markdown",
   "metadata": {
    "colab_type": "text",
    "id": "IDr89W2wsHxj"
   },
   "source": [
    "# Broadcasting in NumPy\n",
    "Broadcasting is a mechanism that permits `NumPy` to operate with arrays of different shapes when performing arithmetic operations. "
   ]
  },
  {
   "cell_type": "code",
   "execution_count": 37,
   "metadata": {
    "colab": {
     "base_uri": "https://localhost:8080/",
     "height": 255
    },
    "colab_type": "code",
    "id": "3YfESrnBr4Vz",
    "outputId": "fdf4cae0-2c0e-4ced-b73f-d295bf9d6234"
   },
   "outputs": [],
   "source": [
    "# Rule 1: Two dimensions are operatable if they are equal\n",
    "# Create an array of two dimension\n",
    "A =np.ones((6, 8))\n"
   ]
  },
  {
   "cell_type": "code",
   "execution_count": 38,
   "metadata": {},
   "outputs": [
    {
     "name": "stdout",
     "output_type": "stream",
     "text": [
      "(6, 8)\n"
     ]
    }
   ],
   "source": [
    "\n",
    "# Shape of A\n",
    "print(A.shape)\n"
   ]
  },
  {
   "cell_type": "code",
   "execution_count": 39,
   "metadata": {},
   "outputs": [],
   "source": [
    "\n",
    "# Create another array\n",
    "B = np.random.random((6,8))\n"
   ]
  },
  {
   "cell_type": "code",
   "execution_count": 40,
   "metadata": {},
   "outputs": [
    {
     "name": "stdout",
     "output_type": "stream",
     "text": [
      "(6, 8)\n"
     ]
    }
   ],
   "source": [
    "\n",
    "# Shape of B\n",
    "print(B.shape)\n"
   ]
  },
  {
   "cell_type": "code",
   "execution_count": 41,
   "metadata": {},
   "outputs": [
    {
     "name": "stdout",
     "output_type": "stream",
     "text": [
      "[[1.17950039 1.54231515 1.48129422 1.65074742 1.96189313 1.67021856\n",
      "  1.21934517 1.09791446]\n",
      " [1.2841484  1.86042643 1.92187611 1.78914448 1.19712856 1.87698295\n",
      "  1.11183663 1.19868478]\n",
      " [1.2026013  1.98027816 1.35980962 1.02942173 1.58658175 1.33212188\n",
      "  1.75157294 1.02234917]\n",
      " [1.44313935 1.50071536 1.48799314 1.16370937 1.55049406 1.96371865\n",
      "  1.09015173 1.13524419]\n",
      " [1.45630044 1.15776618 1.15138678 1.63020852 1.95202957 1.31676674\n",
      "  1.93010399 1.63950197]\n",
      " [1.02736161 1.29885004 1.4026002  1.50633435 1.46694745 1.3249217\n",
      "  1.82725124 1.34476606]]\n"
     ]
    }
   ],
   "source": [
    "\n",
    "# Sum of A and B, here the shape of both the matrix is same.\n",
    "print(A + B)"
   ]
  },
  {
   "cell_type": "code",
   "execution_count": 0,
   "metadata": {
    "colab": {
     "base_uri": "https://localhost:8080/",
     "height": 170
    },
    "colab_type": "code",
    "id": "_Q2kSDgrtOYa",
    "outputId": "1c03730e-e563-4ba4-d80b-fc4b8b185e02"
   },
   "outputs": [
    {
     "name": "stdout",
     "output_type": "stream",
     "text": [
      "[[1. 1. 1. 1.]\n",
      " [1. 1. 1. 1.]\n",
      " [1. 1. 1. 1.]]\n",
      "(3, 4)\n",
      "[0 1 2 3]\n",
      "(4,)\n"
     ]
    },
    {
     "data": {
      "text/plain": [
       "array([[ 1.,  0., -1., -2.],\n",
       "       [ 1.,  0., -1., -2.],\n",
       "       [ 1.,  0., -1., -2.]])"
      ]
     },
     "execution_count": 7,
     "metadata": {
      "tags": []
     },
     "output_type": "execute_result"
    }
   ],
   "source": [
    "# Rule 2: Two dimensions are also comptable when one of them is 1\n",
    "# Initialize `x`\n",
    "x = np.ones((3,4))\n",
    "print(x)\n",
    "\n",
    "# Check shape of `x`\n",
    "print(x.shape)\n",
    "\n",
    "# Initialize `y`\n",
    "y = np.arange(4)\n",
    "print(y)\n",
    "\n",
    "# Check shape of `y`\n",
    "print(y.shape)\n",
    "\n",
    "# Subtract `x` and `y`\n",
    "x - y "
   ]
  },
  {
   "cell_type": "code",
   "execution_count": 0,
   "metadata": {
    "colab": {
     "base_uri": "https://localhost:8080/",
     "height": 1000
    },
    "colab_type": "code",
    "id": "qiHoL40gu4Kb",
    "outputId": "b30df0c7-ff47-4a27-a347-13835a4f7c11"
   },
   "outputs": [
    {
     "name": "stdout",
     "output_type": "stream",
     "text": [
      "[[[1.02819824 1.6661437  1.25074124 1.98188502 1.67576215 1.1141407\n",
      "   1.05525764 1.89361746]\n",
      "  [1.02819824 1.6661437  1.25074124 1.98188502 1.67576215 1.1141407\n",
      "   1.05525764 1.89361746]\n",
      "  [1.02819824 1.6661437  1.25074124 1.98188502 1.67576215 1.1141407\n",
      "   1.05525764 1.89361746]\n",
      "  [1.02819824 1.6661437  1.25074124 1.98188502 1.67576215 1.1141407\n",
      "   1.05525764 1.89361746]\n",
      "  [1.02819824 1.6661437  1.25074124 1.98188502 1.67576215 1.1141407\n",
      "   1.05525764 1.89361746]\n",
      "  [1.02819824 1.6661437  1.25074124 1.98188502 1.67576215 1.1141407\n",
      "   1.05525764 1.89361746]]\n",
      "\n",
      " [[1.00519247 1.69467587 1.74493108 1.01649286 1.27603402 1.66879546\n",
      "   1.58778444 1.54278283]\n",
      "  [1.00519247 1.69467587 1.74493108 1.01649286 1.27603402 1.66879546\n",
      "   1.58778444 1.54278283]\n",
      "  [1.00519247 1.69467587 1.74493108 1.01649286 1.27603402 1.66879546\n",
      "   1.58778444 1.54278283]\n",
      "  [1.00519247 1.69467587 1.74493108 1.01649286 1.27603402 1.66879546\n",
      "   1.58778444 1.54278283]\n",
      "  [1.00519247 1.69467587 1.74493108 1.01649286 1.27603402 1.66879546\n",
      "   1.58778444 1.54278283]\n",
      "  [1.00519247 1.69467587 1.74493108 1.01649286 1.27603402 1.66879546\n",
      "   1.58778444 1.54278283]]\n",
      "\n",
      " [[1.17947289 1.19267446 1.09810831 1.15681195 1.79847927 1.99634615\n",
      "   1.34169815 1.4513772 ]\n",
      "  [1.17947289 1.19267446 1.09810831 1.15681195 1.79847927 1.99634615\n",
      "   1.34169815 1.4513772 ]\n",
      "  [1.17947289 1.19267446 1.09810831 1.15681195 1.79847927 1.99634615\n",
      "   1.34169815 1.4513772 ]\n",
      "  [1.17947289 1.19267446 1.09810831 1.15681195 1.79847927 1.99634615\n",
      "   1.34169815 1.4513772 ]\n",
      "  [1.17947289 1.19267446 1.09810831 1.15681195 1.79847927 1.99634615\n",
      "   1.34169815 1.4513772 ]\n",
      "  [1.17947289 1.19267446 1.09810831 1.15681195 1.79847927 1.99634615\n",
      "   1.34169815 1.4513772 ]]\n",
      "\n",
      " [[1.77657525 1.42893623 1.45768916 1.53390161 1.8934206  1.09735169\n",
      "   1.96093167 1.13343436]\n",
      "  [1.77657525 1.42893623 1.45768916 1.53390161 1.8934206  1.09735169\n",
      "   1.96093167 1.13343436]\n",
      "  [1.77657525 1.42893623 1.45768916 1.53390161 1.8934206  1.09735169\n",
      "   1.96093167 1.13343436]\n",
      "  [1.77657525 1.42893623 1.45768916 1.53390161 1.8934206  1.09735169\n",
      "   1.96093167 1.13343436]\n",
      "  [1.77657525 1.42893623 1.45768916 1.53390161 1.8934206  1.09735169\n",
      "   1.96093167 1.13343436]\n",
      "  [1.77657525 1.42893623 1.45768916 1.53390161 1.8934206  1.09735169\n",
      "   1.96093167 1.13343436]]\n",
      "\n",
      " [[1.44868984 1.88970484 1.82849956 1.67029951 1.77398273 1.29534318\n",
      "   1.85696243 1.01152638]\n",
      "  [1.44868984 1.88970484 1.82849956 1.67029951 1.77398273 1.29534318\n",
      "   1.85696243 1.01152638]\n",
      "  [1.44868984 1.88970484 1.82849956 1.67029951 1.77398273 1.29534318\n",
      "   1.85696243 1.01152638]\n",
      "  [1.44868984 1.88970484 1.82849956 1.67029951 1.77398273 1.29534318\n",
      "   1.85696243 1.01152638]\n",
      "  [1.44868984 1.88970484 1.82849956 1.67029951 1.77398273 1.29534318\n",
      "   1.85696243 1.01152638]\n",
      "  [1.44868984 1.88970484 1.82849956 1.67029951 1.77398273 1.29534318\n",
      "   1.85696243 1.01152638]]\n",
      "\n",
      " [[1.43203476 1.09782224 1.8650536  1.79679117 1.76828582 1.53386677\n",
      "   1.06512781 1.14888762]\n",
      "  [1.43203476 1.09782224 1.8650536  1.79679117 1.76828582 1.53386677\n",
      "   1.06512781 1.14888762]\n",
      "  [1.43203476 1.09782224 1.8650536  1.79679117 1.76828582 1.53386677\n",
      "   1.06512781 1.14888762]\n",
      "  [1.43203476 1.09782224 1.8650536  1.79679117 1.76828582 1.53386677\n",
      "   1.06512781 1.14888762]\n",
      "  [1.43203476 1.09782224 1.8650536  1.79679117 1.76828582 1.53386677\n",
      "   1.06512781 1.14888762]\n",
      "  [1.43203476 1.09782224 1.8650536  1.79679117 1.76828582 1.53386677\n",
      "   1.06512781 1.14888762]]\n",
      "\n",
      " [[1.11721364 1.36074542 1.22978138 1.07701564 1.2661568  1.37413827\n",
      "   1.41684446 1.79816581]\n",
      "  [1.11721364 1.36074542 1.22978138 1.07701564 1.2661568  1.37413827\n",
      "   1.41684446 1.79816581]\n",
      "  [1.11721364 1.36074542 1.22978138 1.07701564 1.2661568  1.37413827\n",
      "   1.41684446 1.79816581]\n",
      "  [1.11721364 1.36074542 1.22978138 1.07701564 1.2661568  1.37413827\n",
      "   1.41684446 1.79816581]\n",
      "  [1.11721364 1.36074542 1.22978138 1.07701564 1.2661568  1.37413827\n",
      "   1.41684446 1.79816581]\n",
      "  [1.11721364 1.36074542 1.22978138 1.07701564 1.2661568  1.37413827\n",
      "   1.41684446 1.79816581]]\n",
      "\n",
      " [[1.79127733 1.48684262 1.65604212 1.14730864 1.67078635 1.57895861\n",
      "   1.10598186 1.009707  ]\n",
      "  [1.79127733 1.48684262 1.65604212 1.14730864 1.67078635 1.57895861\n",
      "   1.10598186 1.009707  ]\n",
      "  [1.79127733 1.48684262 1.65604212 1.14730864 1.67078635 1.57895861\n",
      "   1.10598186 1.009707  ]\n",
      "  [1.79127733 1.48684262 1.65604212 1.14730864 1.67078635 1.57895861\n",
      "   1.10598186 1.009707  ]\n",
      "  [1.79127733 1.48684262 1.65604212 1.14730864 1.67078635 1.57895861\n",
      "   1.10598186 1.009707  ]\n",
      "  [1.79127733 1.48684262 1.65604212 1.14730864 1.67078635 1.57895861\n",
      "   1.10598186 1.009707  ]]\n",
      "\n",
      " [[1.42891771 1.19719906 1.95856739 1.65935471 1.30933796 1.46430924\n",
      "   1.96452655 1.95315441]\n",
      "  [1.42891771 1.19719906 1.95856739 1.65935471 1.30933796 1.46430924\n",
      "   1.96452655 1.95315441]\n",
      "  [1.42891771 1.19719906 1.95856739 1.65935471 1.30933796 1.46430924\n",
      "   1.96452655 1.95315441]\n",
      "  [1.42891771 1.19719906 1.95856739 1.65935471 1.30933796 1.46430924\n",
      "   1.96452655 1.95315441]\n",
      "  [1.42891771 1.19719906 1.95856739 1.65935471 1.30933796 1.46430924\n",
      "   1.96452655 1.95315441]\n",
      "  [1.42891771 1.19719906 1.95856739 1.65935471 1.30933796 1.46430924\n",
      "   1.96452655 1.95315441]]\n",
      "\n",
      " [[1.90992919 1.39201572 1.15546331 1.69603336 1.37293436 1.10187379\n",
      "   1.82464875 1.48617588]\n",
      "  [1.90992919 1.39201572 1.15546331 1.69603336 1.37293436 1.10187379\n",
      "   1.82464875 1.48617588]\n",
      "  [1.90992919 1.39201572 1.15546331 1.69603336 1.37293436 1.10187379\n",
      "   1.82464875 1.48617588]\n",
      "  [1.90992919 1.39201572 1.15546331 1.69603336 1.37293436 1.10187379\n",
      "   1.82464875 1.48617588]\n",
      "  [1.90992919 1.39201572 1.15546331 1.69603336 1.37293436 1.10187379\n",
      "   1.82464875 1.48617588]\n",
      "  [1.90992919 1.39201572 1.15546331 1.69603336 1.37293436 1.10187379\n",
      "   1.82464875 1.48617588]]]\n"
     ]
    },
    {
     "data": {
      "text/plain": [
       "'\\nThe dimensions of x(6,8) and y(10,1,8) are diffrent. However, it is possible \\nto add them. Why is that? Also, change y(10,2,8) or y(10,1,4) it will \\ngive ValueError. Can you find out why?\\n'"
      ]
     },
     "execution_count": 8,
     "metadata": {
      "tags": []
     },
     "output_type": "execute_result"
    }
   ],
   "source": [
    "# Rule 3: Arrays can be broadcasted together if they are compatible in all dimensions\n",
    "\n",
    "x = np.ones((6,8))\n",
    "y = np.random.random((10, 1, 8))\n",
    "print(x + y)\n",
    "\n",
    "# Analytical question\n",
    "\"\"\"\n",
    "The dimensions of x(6,8) and y(10,1,8) are diffrent. However, it is possible \n",
    "to add them. Why is that? Also, change y(10,2,8) or y(10,1,4) it will \n",
    "give ValueError. Can you find out why?\n",
    "\"\"\""
   ]
  },
  {
   "cell_type": "markdown",
   "metadata": {
    "colab_type": "text",
    "id": "y37QrG2wwMXR"
   },
   "source": [
    "# Numpy and mathematics at work"
   ]
  },
  {
   "cell_type": "code",
   "execution_count": 0,
   "metadata": {
    "colab": {
     "base_uri": "https://localhost:8080/",
     "height": 187
    },
    "colab_type": "code",
    "id": "iL_3It22wIxl",
    "outputId": "23fae4a2-3b6f-4121-a212-961a184125a0"
   },
   "outputs": [
    {
     "name": "stdout",
     "output_type": "stream",
     "text": [
      "[[ 2  6 12]\n",
      " [ 4  6  2]]\n",
      "[[ 0 -2 -6]\n",
      " [ 0  0  6]]\n",
      "[[ 1  8 27]\n",
      " [ 4  9 -8]]\n",
      "[[ 1.          0.5         0.33333333]\n",
      " [ 1.          1.         -2.        ]]\n",
      "[[0 2 3]\n",
      " [0 0 0]]\n"
     ]
    }
   ],
   "source": [
    "# Basica operations (+, -, *, /, %)\n",
    "x = np.array([[1, 2, 3], [2, 3, 4]])\n",
    "y = np.array([[1, 4, 9], [2, 3, -2]])\n",
    "\n",
    "# Add two array\n",
    "add = np.add(x, y)\n",
    "print(add)\n",
    "\n",
    "# Subtract two array\n",
    "sub = np.subtract(x, y)\n",
    "print(sub)\n",
    "\n",
    "# Multipley two array\n",
    "mul = np.multiply(x, y)\n",
    "print(mul)\n",
    "\n",
    "# Divide x, y\n",
    "div = np.divide(x,y)\n",
    "print(div)\n",
    "\n",
    "# Calculated the remainder of x and y\n",
    "rem = np.remainder(x, y)\n",
    "print(rem)\n"
   ]
  },
  {
   "cell_type": "markdown",
   "metadata": {
    "colab_type": "text",
    "id": "FOOhlPsG2Xz4"
   },
   "source": [
    "# Subset, Slice, And Index Arrays"
   ]
  },
  {
   "cell_type": "code",
   "execution_count": 0,
   "metadata": {
    "colab": {
     "base_uri": "https://localhost:8080/",
     "height": 68
    },
    "colab_type": "code",
    "id": "VaTOwWvJ2Q39",
    "outputId": "c849ff83-8b1a-4c07-9825-8f85d7a7fcfa"
   },
   "outputs": [
    {
     "name": "stdout",
     "output_type": "stream",
     "text": [
      "[10 20]\n",
      "[ 2 10]\n",
      "[ 2  3  4  9 10 11 12]\n"
     ]
    }
   ],
   "source": [
    "x = np.array([10, 20, 30, 40, 50])\n",
    "\n",
    "# Select items at index 0 and 1\n",
    "print(x[0:2])\n",
    "\n",
    "# Select item at row 0 and 1 and column 1 from 2D array\n",
    "y = np.array([[ 1,  2,  3,  4], [ 9, 10, 11 ,12]])\n",
    "print(y[0:2, 1])\n",
    "\n",
    "# Specifying conditions\n",
    "biggerThan2 = (y >= 2)\n",
    "print(y[biggerThan2])"
   ]
  },
  {
   "cell_type": "code",
   "execution_count": 0,
   "metadata": {
    "colab": {},
    "colab_type": "code",
    "id": "RoCi1SRZ828a"
   },
   "outputs": [],
   "source": [
    "# Importing pandas\n",
    "import pandas as pd"
   ]
  },
  {
   "cell_type": "markdown",
   "metadata": {
    "colab_type": "text",
    "id": "ZOM356yE9E5x"
   },
   "source": [
    "# Can you set default parameters in Pandas?\n"
   ]
  },
  {
   "cell_type": "code",
   "execution_count": 0,
   "metadata": {
    "colab": {
     "base_uri": "https://localhost:8080/",
     "height": 34
    },
    "colab_type": "code",
    "id": "3H-cxbK69KJK",
    "outputId": "29ad6f8c-e3ad-4406-bd22-856dcf7561e1"
   },
   "outputs": [
    {
     "name": "stdout",
     "output_type": "stream",
     "text": [
      "Pandas Version: 0.24.2\n"
     ]
    }
   ],
   "source": [
    "print(\"Pandas Version:\", pd.__version__)\n",
    "\n",
    "pd.set_option('display.max_columns', 500)\n",
    "pd.set_option('display.max_rows', 500)\n"
   ]
  },
  {
   "cell_type": "markdown",
   "metadata": {
    "colab_type": "text",
    "id": "3NzGxP-39TS9"
   },
   "source": [
    "# Data strcutre of pandas\n",
    "\n",
    "\n",
    "*   Series\n",
    "*   DataFrames\n",
    "\n",
    "\n"
   ]
  },
  {
   "cell_type": "code",
   "execution_count": 0,
   "metadata": {
    "colab": {
     "base_uri": "https://localhost:8080/",
     "height": 445
    },
    "colab_type": "code",
    "id": "i_rBemUy9Qjx",
    "outputId": "a59a223a-fa30-4047-a82d-cb23929ec6a5"
   },
   "outputs": [
    {
     "name": "stdout",
     "output_type": "stream",
     "text": [
      "0     2\n",
      "1     3\n",
      "2     7\n",
      "3    11\n",
      "4    13\n",
      "5    17\n",
      "6    19\n",
      "7    23\n",
      "dtype: int64\n",
      "           A     B    C\n",
      "0      Apple  Ball  NaN\n",
      "1  Aeroplane   Bat  Cat\n",
      "   A          B    C  D                 E              F               G\n",
      "0  1 2019-05-26  5.0  3        Depression  Mental health  is challenging\n",
      "1  2 2019-05-26  5.0  3    Social Anxiety  Mental health  is challenging\n",
      "2  3 2019-05-26  5.0  3  Bipolar Disorder  Mental health  is challenging\n",
      "3  4 2019-05-26  5.0  3   Eating Disorder  Mental health  is challenging\n",
      "      County  ISO-Code      Area Administrative centre\n",
      "0    Østfold         1   4180.69             Sarpsborg\n",
      "1  Hordaland         2   4917.94                  Oslo\n",
      "2       Oslo         3    454.07          City of Oslo\n",
      "3    Hedmark         4  27397.76                 Hamar\n",
      "4    Oppland         5  25192.10           Lillehammer\n",
      "5   Buskerud         6  14910.94               Drammen\n"
     ]
    }
   ],
   "source": [
    "series = pd.Series([2, 3, 7, 11, 13, 17, 19, 23])\n",
    "print(series)\n",
    "\n",
    "# Creating dataframe from Dictionary\n",
    "dict_df = [{'A': 'Apple', 'B': 'Ball'},{'A': 'Aeroplane', 'B': 'Bat', 'C': 'Cat'}]\n",
    "dict_df = pd.DataFrame(dict_df)\n",
    "print(dict_df)\n",
    "  \n",
    "# Creating dataframe from Series\n",
    "series_df = pd.DataFrame({\n",
    "    'A': range(1, 5),\n",
    "    'B': pd.Timestamp('20190526'),\n",
    "    'C': pd.Series(5, index=list(range(4)), dtype='float64'),\n",
    "    'D': np.array([3] * 4, dtype='int64'),\n",
    "    'E': pd.Categorical([\"Depression\", \"Social Anxiety\", \"Bipolar Disorder\", \"Eating Disorder\"]),\n",
    "    'F': 'Mental health',\n",
    "    'G': 'is challenging'\n",
    "})\n",
    "print(series_df)\n",
    "\n",
    "# Creating a dataframe from ndarrays\n",
    "sdf = {\n",
    "    'County':['Østfold', 'Hordaland', 'Oslo', 'Hedmark', 'Oppland', 'Buskerud'],\n",
    "    'ISO-Code':[1,2,3,4,5,6],\n",
    "    'Area': [4180.69, 4917.94, 454.07, 27397.76, 25192.10, 14910.94],\n",
    "    'Administrative centre': [\"Sarpsborg\", \"Oslo\", \"City of Oslo\", \"Hamar\", \"Lillehammer\", \"Drammen\"]\n",
    "    }\n",
    "sdf = pd.DataFrame(sdf)\n",
    "print(sdf)"
   ]
  },
  {
   "cell_type": "markdown",
   "metadata": {
    "colab_type": "text",
    "id": "3nvUnfDWKQnt"
   },
   "source": [
    "# Loading a dataset into Pandas DataFrame\n",
    "\n"
   ]
  },
  {
   "cell_type": "code",
   "execution_count": 81,
   "metadata": {
    "colab": {
     "base_uri": "https://localhost:8080/",
     "height": 515
    },
    "colab_type": "code",
    "id": "9wR-aub1KEIj",
    "outputId": "260e5181-75cf-4fa8-8f59-708df75fb0c8"
   },
   "outputs": [
    {
     "data": {
      "text/html": [
       "<div>\n",
       "<style scoped>\n",
       "    .dataframe tbody tr th:only-of-type {\n",
       "        vertical-align: middle;\n",
       "    }\n",
       "\n",
       "    .dataframe tbody tr th {\n",
       "        vertical-align: top;\n",
       "    }\n",
       "\n",
       "    .dataframe thead th {\n",
       "        text-align: right;\n",
       "    }\n",
       "</style>\n",
       "<table border=\"1\" class=\"dataframe\">\n",
       "  <thead>\n",
       "    <tr style=\"text-align: right;\">\n",
       "      <th></th>\n",
       "      <th>age</th>\n",
       "      <th>workclass</th>\n",
       "      <th>fnlwgt</th>\n",
       "      <th>education</th>\n",
       "      <th>education_num</th>\n",
       "      <th>marital_status</th>\n",
       "      <th>occupation</th>\n",
       "      <th>relationship</th>\n",
       "      <th>ethnicity</th>\n",
       "      <th>gender</th>\n",
       "      <th>capital_gain</th>\n",
       "      <th>capital_loss</th>\n",
       "      <th>hours_per_week</th>\n",
       "      <th>country_of_origin</th>\n",
       "      <th>income</th>\n",
       "    </tr>\n",
       "  </thead>\n",
       "  <tbody>\n",
       "    <tr>\n",
       "      <th>0</th>\n",
       "      <td>39</td>\n",
       "      <td>State-gov</td>\n",
       "      <td>77516</td>\n",
       "      <td>Bachelors</td>\n",
       "      <td>13</td>\n",
       "      <td>Never-married</td>\n",
       "      <td>Adm-clerical</td>\n",
       "      <td>Not-in-family</td>\n",
       "      <td>White</td>\n",
       "      <td>Male</td>\n",
       "      <td>2174</td>\n",
       "      <td>0</td>\n",
       "      <td>40</td>\n",
       "      <td>United-States</td>\n",
       "      <td>&lt;=50K</td>\n",
       "    </tr>\n",
       "    <tr>\n",
       "      <th>1</th>\n",
       "      <td>50</td>\n",
       "      <td>Self-emp-not-inc</td>\n",
       "      <td>83311</td>\n",
       "      <td>Bachelors</td>\n",
       "      <td>13</td>\n",
       "      <td>Married-civ-spouse</td>\n",
       "      <td>Exec-managerial</td>\n",
       "      <td>Husband</td>\n",
       "      <td>White</td>\n",
       "      <td>Male</td>\n",
       "      <td>0</td>\n",
       "      <td>0</td>\n",
       "      <td>13</td>\n",
       "      <td>United-States</td>\n",
       "      <td>&lt;=50K</td>\n",
       "    </tr>\n",
       "    <tr>\n",
       "      <th>2</th>\n",
       "      <td>38</td>\n",
       "      <td>Private</td>\n",
       "      <td>215646</td>\n",
       "      <td>HS-grad</td>\n",
       "      <td>9</td>\n",
       "      <td>Divorced</td>\n",
       "      <td>Handlers-cleaners</td>\n",
       "      <td>Not-in-family</td>\n",
       "      <td>White</td>\n",
       "      <td>Male</td>\n",
       "      <td>0</td>\n",
       "      <td>0</td>\n",
       "      <td>40</td>\n",
       "      <td>United-States</td>\n",
       "      <td>&lt;=50K</td>\n",
       "    </tr>\n",
       "    <tr>\n",
       "      <th>3</th>\n",
       "      <td>53</td>\n",
       "      <td>Private</td>\n",
       "      <td>234721</td>\n",
       "      <td>11th</td>\n",
       "      <td>7</td>\n",
       "      <td>Married-civ-spouse</td>\n",
       "      <td>Handlers-cleaners</td>\n",
       "      <td>Husband</td>\n",
       "      <td>Black</td>\n",
       "      <td>Male</td>\n",
       "      <td>0</td>\n",
       "      <td>0</td>\n",
       "      <td>40</td>\n",
       "      <td>United-States</td>\n",
       "      <td>&lt;=50K</td>\n",
       "    </tr>\n",
       "    <tr>\n",
       "      <th>4</th>\n",
       "      <td>28</td>\n",
       "      <td>Private</td>\n",
       "      <td>338409</td>\n",
       "      <td>Bachelors</td>\n",
       "      <td>13</td>\n",
       "      <td>Married-civ-spouse</td>\n",
       "      <td>Prof-specialty</td>\n",
       "      <td>Wife</td>\n",
       "      <td>Black</td>\n",
       "      <td>Female</td>\n",
       "      <td>0</td>\n",
       "      <td>0</td>\n",
       "      <td>40</td>\n",
       "      <td>Cuba</td>\n",
       "      <td>&lt;=50K</td>\n",
       "    </tr>\n",
       "    <tr>\n",
       "      <th>5</th>\n",
       "      <td>37</td>\n",
       "      <td>Private</td>\n",
       "      <td>284582</td>\n",
       "      <td>Masters</td>\n",
       "      <td>14</td>\n",
       "      <td>Married-civ-spouse</td>\n",
       "      <td>Exec-managerial</td>\n",
       "      <td>Wife</td>\n",
       "      <td>White</td>\n",
       "      <td>Female</td>\n",
       "      <td>0</td>\n",
       "      <td>0</td>\n",
       "      <td>40</td>\n",
       "      <td>United-States</td>\n",
       "      <td>&lt;=50K</td>\n",
       "    </tr>\n",
       "    <tr>\n",
       "      <th>6</th>\n",
       "      <td>49</td>\n",
       "      <td>Private</td>\n",
       "      <td>160187</td>\n",
       "      <td>9th</td>\n",
       "      <td>5</td>\n",
       "      <td>Married-spouse-absent</td>\n",
       "      <td>Other-service</td>\n",
       "      <td>Not-in-family</td>\n",
       "      <td>Black</td>\n",
       "      <td>Female</td>\n",
       "      <td>0</td>\n",
       "      <td>0</td>\n",
       "      <td>16</td>\n",
       "      <td>Jamaica</td>\n",
       "      <td>&lt;=50K</td>\n",
       "    </tr>\n",
       "    <tr>\n",
       "      <th>7</th>\n",
       "      <td>52</td>\n",
       "      <td>Self-emp-not-inc</td>\n",
       "      <td>209642</td>\n",
       "      <td>HS-grad</td>\n",
       "      <td>9</td>\n",
       "      <td>Married-civ-spouse</td>\n",
       "      <td>Exec-managerial</td>\n",
       "      <td>Husband</td>\n",
       "      <td>White</td>\n",
       "      <td>Male</td>\n",
       "      <td>0</td>\n",
       "      <td>0</td>\n",
       "      <td>45</td>\n",
       "      <td>United-States</td>\n",
       "      <td>&gt;50K</td>\n",
       "    </tr>\n",
       "    <tr>\n",
       "      <th>8</th>\n",
       "      <td>31</td>\n",
       "      <td>Private</td>\n",
       "      <td>45781</td>\n",
       "      <td>Masters</td>\n",
       "      <td>14</td>\n",
       "      <td>Never-married</td>\n",
       "      <td>Prof-specialty</td>\n",
       "      <td>Not-in-family</td>\n",
       "      <td>White</td>\n",
       "      <td>Female</td>\n",
       "      <td>14084</td>\n",
       "      <td>0</td>\n",
       "      <td>50</td>\n",
       "      <td>United-States</td>\n",
       "      <td>&gt;50K</td>\n",
       "    </tr>\n",
       "    <tr>\n",
       "      <th>9</th>\n",
       "      <td>42</td>\n",
       "      <td>Private</td>\n",
       "      <td>159449</td>\n",
       "      <td>Bachelors</td>\n",
       "      <td>13</td>\n",
       "      <td>Married-civ-spouse</td>\n",
       "      <td>Exec-managerial</td>\n",
       "      <td>Husband</td>\n",
       "      <td>White</td>\n",
       "      <td>Male</td>\n",
       "      <td>5178</td>\n",
       "      <td>0</td>\n",
       "      <td>40</td>\n",
       "      <td>United-States</td>\n",
       "      <td>&gt;50K</td>\n",
       "    </tr>\n",
       "  </tbody>\n",
       "</table>\n",
       "</div>"
      ],
      "text/plain": [
       "   age          workclass  fnlwgt   education  education_num  \\\n",
       "0   39          State-gov   77516   Bachelors             13   \n",
       "1   50   Self-emp-not-inc   83311   Bachelors             13   \n",
       "2   38            Private  215646     HS-grad              9   \n",
       "3   53            Private  234721        11th              7   \n",
       "4   28            Private  338409   Bachelors             13   \n",
       "5   37            Private  284582     Masters             14   \n",
       "6   49            Private  160187         9th              5   \n",
       "7   52   Self-emp-not-inc  209642     HS-grad              9   \n",
       "8   31            Private   45781     Masters             14   \n",
       "9   42            Private  159449   Bachelors             13   \n",
       "\n",
       "           marital_status          occupation    relationship ethnicity  \\\n",
       "0           Never-married        Adm-clerical   Not-in-family     White   \n",
       "1      Married-civ-spouse     Exec-managerial         Husband     White   \n",
       "2                Divorced   Handlers-cleaners   Not-in-family     White   \n",
       "3      Married-civ-spouse   Handlers-cleaners         Husband     Black   \n",
       "4      Married-civ-spouse      Prof-specialty            Wife     Black   \n",
       "5      Married-civ-spouse     Exec-managerial            Wife     White   \n",
       "6   Married-spouse-absent       Other-service   Not-in-family     Black   \n",
       "7      Married-civ-spouse     Exec-managerial         Husband     White   \n",
       "8           Never-married      Prof-specialty   Not-in-family     White   \n",
       "9      Married-civ-spouse     Exec-managerial         Husband     White   \n",
       "\n",
       "    gender  capital_gain  capital_loss  hours_per_week country_of_origin  \\\n",
       "0     Male          2174             0              40     United-States   \n",
       "1     Male             0             0              13     United-States   \n",
       "2     Male             0             0              40     United-States   \n",
       "3     Male             0             0              40     United-States   \n",
       "4   Female             0             0              40              Cuba   \n",
       "5   Female             0             0              40     United-States   \n",
       "6   Female             0             0              16           Jamaica   \n",
       "7     Male             0             0              45     United-States   \n",
       "8   Female         14084             0              50     United-States   \n",
       "9     Male          5178             0              40     United-States   \n",
       "\n",
       "   income  \n",
       "0   <=50K  \n",
       "1   <=50K  \n",
       "2   <=50K  \n",
       "3   <=50K  \n",
       "4   <=50K  \n",
       "5   <=50K  \n",
       "6   <=50K  \n",
       "7    >50K  \n",
       "8    >50K  \n",
       "9    >50K  "
      ]
     },
     "execution_count": 81,
     "metadata": {},
     "output_type": "execute_result"
    }
   ],
   "source": [
    "import pandas as pd\n",
    "columns = ['age', 'workclass', 'fnlwgt', 'education', 'education_num',\n",
    "    'marital_status', 'occupation', 'relationship', 'ethnicity', 'gender','capital_gain','capital_loss','hours_per_week','country_of_origin','income']\n",
    "df = pd.read_csv('http://archive.ics.uci.edu/ml/machine-learning-databases/adult/adult.data',names=columns)\n",
    "df.head(10)"
   ]
  },
  {
   "cell_type": "code",
   "execution_count": 77,
   "metadata": {
    "colab": {
     "base_uri": "https://localhost:8080/",
     "height": 357
    },
    "colab_type": "code",
    "id": "hID1TNlKKdB4",
    "outputId": "70605ec4-96bc-471b-e68b-e463a7b4bdcc"
   },
   "outputs": [
    {
     "name": "stdout",
     "output_type": "stream",
     "text": [
      "<class 'pandas.core.frame.DataFrame'>\n",
      "RangeIndex: 32561 entries, 0 to 32560\n",
      "Data columns (total 15 columns):\n",
      " #   Column             Non-Null Count  Dtype \n",
      "---  ------             --------------  ----- \n",
      " 0   age                32561 non-null  int64 \n",
      " 1   workclass          32561 non-null  object\n",
      " 2   fnlwgt             32561 non-null  int64 \n",
      " 3   education          32561 non-null  object\n",
      " 4   education_num      32561 non-null  int64 \n",
      " 5   marital_status     32561 non-null  object\n",
      " 6   occupation         32561 non-null  object\n",
      " 7   relationship       32561 non-null  object\n",
      " 8   ethnicity          32561 non-null  object\n",
      " 9   gender             32561 non-null  object\n",
      " 10  capital_gain       32561 non-null  int64 \n",
      " 11  capital_loss       32561 non-null  int64 \n",
      " 12  hours_per_week     32561 non-null  int64 \n",
      " 13  country_of_origin  32561 non-null  object\n",
      " 14  income             32561 non-null  object\n",
      "dtypes: int64(6), object(9)\n",
      "memory usage: 3.7+ MB\n"
     ]
    }
   ],
   "source": [
    "# Displays the rows, columns, data types and memory used by the dataframe\n",
    "df.info()"
   ]
  },
  {
   "cell_type": "code",
   "execution_count": 78,
   "metadata": {
    "colab": {
     "base_uri": "https://localhost:8080/",
     "height": 34
    },
    "colab_type": "code",
    "id": "PBnmb142KfhT",
    "outputId": "97b4f5e8-39fc-4a8f-a495-f98a2acbcf81"
   },
   "outputs": [
    {
     "data": {
      "text/plain": [
       "(32561, 15)"
      ]
     },
     "execution_count": 78,
     "metadata": {},
     "output_type": "execute_result"
    }
   ],
   "source": [
    "# Displays the no of data points and columns in the dataframe\n",
    "df.shape"
   ]
  },
  {
   "cell_type": "code",
   "execution_count": 79,
   "metadata": {
    "colab": {
     "base_uri": "https://localhost:8080/",
     "height": 122
    },
    "colab_type": "code",
    "id": "wib9eVHRLach",
    "outputId": "fba855a4-20a9-42b8-d809-1160747b8397"
   },
   "outputs": [
    {
     "data": {
      "text/plain": [
       "Index(['age', 'workclass', 'fnlwgt', 'education', 'education_num',\n",
       "       'marital_status', 'occupation', 'relationship', 'ethnicity', 'gender',\n",
       "       'capital_gain', 'capital_loss', 'hours_per_week', 'country_of_origin',\n",
       "       'income'],\n",
       "      dtype='object')"
      ]
     },
     "execution_count": 79,
     "metadata": {},
     "output_type": "execute_result"
    }
   ],
   "source": [
    "# Display all columns of the dataframe\n",
    "df.columns"
   ]
  },
  {
   "cell_type": "code",
   "execution_count": 82,
   "metadata": {
    "colab": {
     "base_uri": "https://localhost:8080/",
     "height": 317
    },
    "colab_type": "code",
    "id": "hdOSdNlULdA5",
    "outputId": "50b9fe36-9e0e-48aa-a84d-e48f56386a13"
   },
   "outputs": [
    {
     "data": {
      "text/html": [
       "<div>\n",
       "<style scoped>\n",
       "    .dataframe tbody tr th:only-of-type {\n",
       "        vertical-align: middle;\n",
       "    }\n",
       "\n",
       "    .dataframe tbody tr th {\n",
       "        vertical-align: top;\n",
       "    }\n",
       "\n",
       "    .dataframe thead th {\n",
       "        text-align: right;\n",
       "    }\n",
       "</style>\n",
       "<table border=\"1\" class=\"dataframe\">\n",
       "  <thead>\n",
       "    <tr style=\"text-align: right;\">\n",
       "      <th></th>\n",
       "      <th>age</th>\n",
       "      <th>fnlwgt</th>\n",
       "      <th>education_num</th>\n",
       "      <th>capital_gain</th>\n",
       "      <th>capital_loss</th>\n",
       "      <th>hours_per_week</th>\n",
       "    </tr>\n",
       "  </thead>\n",
       "  <tbody>\n",
       "    <tr>\n",
       "      <th>count</th>\n",
       "      <td>32561.000000</td>\n",
       "      <td>3.256100e+04</td>\n",
       "      <td>32561.000000</td>\n",
       "      <td>32561.000000</td>\n",
       "      <td>32561.000000</td>\n",
       "      <td>32561.000000</td>\n",
       "    </tr>\n",
       "    <tr>\n",
       "      <th>mean</th>\n",
       "      <td>38.581647</td>\n",
       "      <td>1.897784e+05</td>\n",
       "      <td>10.080679</td>\n",
       "      <td>1077.648844</td>\n",
       "      <td>87.303830</td>\n",
       "      <td>40.437456</td>\n",
       "    </tr>\n",
       "    <tr>\n",
       "      <th>std</th>\n",
       "      <td>13.640433</td>\n",
       "      <td>1.055500e+05</td>\n",
       "      <td>2.572720</td>\n",
       "      <td>7385.292085</td>\n",
       "      <td>402.960219</td>\n",
       "      <td>12.347429</td>\n",
       "    </tr>\n",
       "    <tr>\n",
       "      <th>min</th>\n",
       "      <td>17.000000</td>\n",
       "      <td>1.228500e+04</td>\n",
       "      <td>1.000000</td>\n",
       "      <td>0.000000</td>\n",
       "      <td>0.000000</td>\n",
       "      <td>1.000000</td>\n",
       "    </tr>\n",
       "    <tr>\n",
       "      <th>25%</th>\n",
       "      <td>28.000000</td>\n",
       "      <td>1.178270e+05</td>\n",
       "      <td>9.000000</td>\n",
       "      <td>0.000000</td>\n",
       "      <td>0.000000</td>\n",
       "      <td>40.000000</td>\n",
       "    </tr>\n",
       "    <tr>\n",
       "      <th>50%</th>\n",
       "      <td>37.000000</td>\n",
       "      <td>1.783560e+05</td>\n",
       "      <td>10.000000</td>\n",
       "      <td>0.000000</td>\n",
       "      <td>0.000000</td>\n",
       "      <td>40.000000</td>\n",
       "    </tr>\n",
       "    <tr>\n",
       "      <th>75%</th>\n",
       "      <td>48.000000</td>\n",
       "      <td>2.370510e+05</td>\n",
       "      <td>12.000000</td>\n",
       "      <td>0.000000</td>\n",
       "      <td>0.000000</td>\n",
       "      <td>45.000000</td>\n",
       "    </tr>\n",
       "    <tr>\n",
       "      <th>max</th>\n",
       "      <td>90.000000</td>\n",
       "      <td>1.484705e+06</td>\n",
       "      <td>16.000000</td>\n",
       "      <td>99999.000000</td>\n",
       "      <td>4356.000000</td>\n",
       "      <td>99.000000</td>\n",
       "    </tr>\n",
       "  </tbody>\n",
       "</table>\n",
       "</div>"
      ],
      "text/plain": [
       "                age        fnlwgt  education_num  capital_gain  capital_loss  \\\n",
       "count  32561.000000  3.256100e+04   32561.000000  32561.000000  32561.000000   \n",
       "mean      38.581647  1.897784e+05      10.080679   1077.648844     87.303830   \n",
       "std       13.640433  1.055500e+05       2.572720   7385.292085    402.960219   \n",
       "min       17.000000  1.228500e+04       1.000000      0.000000      0.000000   \n",
       "25%       28.000000  1.178270e+05       9.000000      0.000000      0.000000   \n",
       "50%       37.000000  1.783560e+05      10.000000      0.000000      0.000000   \n",
       "75%       48.000000  2.370510e+05      12.000000      0.000000      0.000000   \n",
       "max       90.000000  1.484705e+06      16.000000  99999.000000   4356.000000   \n",
       "\n",
       "       hours_per_week  \n",
       "count    32561.000000  \n",
       "mean        40.437456  \n",
       "std         12.347429  \n",
       "min          1.000000  \n",
       "25%         40.000000  \n",
       "50%         40.000000  \n",
       "75%         45.000000  \n",
       "max         99.000000  "
      ]
     },
     "execution_count": 82,
     "metadata": {},
     "output_type": "execute_result"
    }
   ],
   "source": [
    "# Displays summary statistics for each numerical column in the dataframe\n",
    "df.describe()"
   ]
  },
  {
   "cell_type": "markdown",
   "metadata": {
    "colab_type": "text",
    "id": "sD5KlSfcTd9o"
   },
   "source": [
    "# Selecting rows and columns in the dataframe\n"
   ]
  },
  {
   "cell_type": "code",
   "execution_count": 85,
   "metadata": {
    "colab": {
     "base_uri": "https://localhost:8080/",
     "height": 204
    },
    "colab_type": "code",
    "id": "gawQcy80TgJo",
    "outputId": "a7dc8519-3e9d-45a3-eb1b-c758076d2f82"
   },
   "outputs": [
    {
     "data": {
      "text/plain": [
       "age                              39\n",
       "workclass                 State-gov\n",
       "fnlwgt                        77516\n",
       "education                 Bachelors\n",
       "education_num                    13\n",
       "marital_status        Never-married\n",
       "occupation             Adm-clerical\n",
       "relationship          Not-in-family\n",
       "ethnicity                     White\n",
       "gender                         Male\n",
       "capital_gain                   2174\n",
       "capital_loss                      0\n",
       "hours_per_week                   40\n",
       "country_of_origin     United-States\n",
       "income                        <=50K\n",
       "Name: 0, dtype: object"
      ]
     },
     "execution_count": 85,
     "metadata": {},
     "output_type": "execute_result"
    }
   ],
   "source": [
    "# Selects a row\n",
    "df.iloc[0] "
   ]
  },
  {
   "cell_type": "code",
   "execution_count": 86,
   "metadata": {},
   "outputs": [
    {
     "data": {
      "text/html": [
       "<div>\n",
       "<style scoped>\n",
       "    .dataframe tbody tr th:only-of-type {\n",
       "        vertical-align: middle;\n",
       "    }\n",
       "\n",
       "    .dataframe tbody tr th {\n",
       "        vertical-align: top;\n",
       "    }\n",
       "\n",
       "    .dataframe thead th {\n",
       "        text-align: right;\n",
       "    }\n",
       "</style>\n",
       "<table border=\"1\" class=\"dataframe\">\n",
       "  <thead>\n",
       "    <tr style=\"text-align: right;\">\n",
       "      <th></th>\n",
       "      <th>age</th>\n",
       "      <th>workclass</th>\n",
       "      <th>fnlwgt</th>\n",
       "      <th>education</th>\n",
       "      <th>education_num</th>\n",
       "      <th>marital_status</th>\n",
       "      <th>occupation</th>\n",
       "      <th>relationship</th>\n",
       "      <th>ethnicity</th>\n",
       "      <th>gender</th>\n",
       "      <th>capital_gain</th>\n",
       "      <th>capital_loss</th>\n",
       "      <th>hours_per_week</th>\n",
       "      <th>country_of_origin</th>\n",
       "      <th>income</th>\n",
       "    </tr>\n",
       "  </thead>\n",
       "  <tbody>\n",
       "    <tr>\n",
       "      <th>0</th>\n",
       "      <td>39</td>\n",
       "      <td>State-gov</td>\n",
       "      <td>77516</td>\n",
       "      <td>Bachelors</td>\n",
       "      <td>13</td>\n",
       "      <td>Never-married</td>\n",
       "      <td>Adm-clerical</td>\n",
       "      <td>Not-in-family</td>\n",
       "      <td>White</td>\n",
       "      <td>Male</td>\n",
       "      <td>2174</td>\n",
       "      <td>0</td>\n",
       "      <td>40</td>\n",
       "      <td>United-States</td>\n",
       "      <td>&lt;=50K</td>\n",
       "    </tr>\n",
       "    <tr>\n",
       "      <th>1</th>\n",
       "      <td>50</td>\n",
       "      <td>Self-emp-not-inc</td>\n",
       "      <td>83311</td>\n",
       "      <td>Bachelors</td>\n",
       "      <td>13</td>\n",
       "      <td>Married-civ-spouse</td>\n",
       "      <td>Exec-managerial</td>\n",
       "      <td>Husband</td>\n",
       "      <td>White</td>\n",
       "      <td>Male</td>\n",
       "      <td>0</td>\n",
       "      <td>0</td>\n",
       "      <td>13</td>\n",
       "      <td>United-States</td>\n",
       "      <td>&lt;=50K</td>\n",
       "    </tr>\n",
       "    <tr>\n",
       "      <th>2</th>\n",
       "      <td>38</td>\n",
       "      <td>Private</td>\n",
       "      <td>215646</td>\n",
       "      <td>HS-grad</td>\n",
       "      <td>9</td>\n",
       "      <td>Divorced</td>\n",
       "      <td>Handlers-cleaners</td>\n",
       "      <td>Not-in-family</td>\n",
       "      <td>White</td>\n",
       "      <td>Male</td>\n",
       "      <td>0</td>\n",
       "      <td>0</td>\n",
       "      <td>40</td>\n",
       "      <td>United-States</td>\n",
       "      <td>&lt;=50K</td>\n",
       "    </tr>\n",
       "    <tr>\n",
       "      <th>3</th>\n",
       "      <td>53</td>\n",
       "      <td>Private</td>\n",
       "      <td>234721</td>\n",
       "      <td>11th</td>\n",
       "      <td>7</td>\n",
       "      <td>Married-civ-spouse</td>\n",
       "      <td>Handlers-cleaners</td>\n",
       "      <td>Husband</td>\n",
       "      <td>Black</td>\n",
       "      <td>Male</td>\n",
       "      <td>0</td>\n",
       "      <td>0</td>\n",
       "      <td>40</td>\n",
       "      <td>United-States</td>\n",
       "      <td>&lt;=50K</td>\n",
       "    </tr>\n",
       "    <tr>\n",
       "      <th>4</th>\n",
       "      <td>28</td>\n",
       "      <td>Private</td>\n",
       "      <td>338409</td>\n",
       "      <td>Bachelors</td>\n",
       "      <td>13</td>\n",
       "      <td>Married-civ-spouse</td>\n",
       "      <td>Prof-specialty</td>\n",
       "      <td>Wife</td>\n",
       "      <td>Black</td>\n",
       "      <td>Female</td>\n",
       "      <td>0</td>\n",
       "      <td>0</td>\n",
       "      <td>40</td>\n",
       "      <td>Cuba</td>\n",
       "      <td>&lt;=50K</td>\n",
       "    </tr>\n",
       "    <tr>\n",
       "      <th>5</th>\n",
       "      <td>37</td>\n",
       "      <td>Private</td>\n",
       "      <td>284582</td>\n",
       "      <td>Masters</td>\n",
       "      <td>14</td>\n",
       "      <td>Married-civ-spouse</td>\n",
       "      <td>Exec-managerial</td>\n",
       "      <td>Wife</td>\n",
       "      <td>White</td>\n",
       "      <td>Female</td>\n",
       "      <td>0</td>\n",
       "      <td>0</td>\n",
       "      <td>40</td>\n",
       "      <td>United-States</td>\n",
       "      <td>&lt;=50K</td>\n",
       "    </tr>\n",
       "    <tr>\n",
       "      <th>6</th>\n",
       "      <td>49</td>\n",
       "      <td>Private</td>\n",
       "      <td>160187</td>\n",
       "      <td>9th</td>\n",
       "      <td>5</td>\n",
       "      <td>Married-spouse-absent</td>\n",
       "      <td>Other-service</td>\n",
       "      <td>Not-in-family</td>\n",
       "      <td>Black</td>\n",
       "      <td>Female</td>\n",
       "      <td>0</td>\n",
       "      <td>0</td>\n",
       "      <td>16</td>\n",
       "      <td>Jamaica</td>\n",
       "      <td>&lt;=50K</td>\n",
       "    </tr>\n",
       "    <tr>\n",
       "      <th>7</th>\n",
       "      <td>52</td>\n",
       "      <td>Self-emp-not-inc</td>\n",
       "      <td>209642</td>\n",
       "      <td>HS-grad</td>\n",
       "      <td>9</td>\n",
       "      <td>Married-civ-spouse</td>\n",
       "      <td>Exec-managerial</td>\n",
       "      <td>Husband</td>\n",
       "      <td>White</td>\n",
       "      <td>Male</td>\n",
       "      <td>0</td>\n",
       "      <td>0</td>\n",
       "      <td>45</td>\n",
       "      <td>United-States</td>\n",
       "      <td>&gt;50K</td>\n",
       "    </tr>\n",
       "    <tr>\n",
       "      <th>8</th>\n",
       "      <td>31</td>\n",
       "      <td>Private</td>\n",
       "      <td>45781</td>\n",
       "      <td>Masters</td>\n",
       "      <td>14</td>\n",
       "      <td>Never-married</td>\n",
       "      <td>Prof-specialty</td>\n",
       "      <td>Not-in-family</td>\n",
       "      <td>White</td>\n",
       "      <td>Female</td>\n",
       "      <td>14084</td>\n",
       "      <td>0</td>\n",
       "      <td>50</td>\n",
       "      <td>United-States</td>\n",
       "      <td>&gt;50K</td>\n",
       "    </tr>\n",
       "    <tr>\n",
       "      <th>9</th>\n",
       "      <td>42</td>\n",
       "      <td>Private</td>\n",
       "      <td>159449</td>\n",
       "      <td>Bachelors</td>\n",
       "      <td>13</td>\n",
       "      <td>Married-civ-spouse</td>\n",
       "      <td>Exec-managerial</td>\n",
       "      <td>Husband</td>\n",
       "      <td>White</td>\n",
       "      <td>Male</td>\n",
       "      <td>5178</td>\n",
       "      <td>0</td>\n",
       "      <td>40</td>\n",
       "      <td>United-States</td>\n",
       "      <td>&gt;50K</td>\n",
       "    </tr>\n",
       "  </tbody>\n",
       "</table>\n",
       "</div>"
      ],
      "text/plain": [
       "   age          workclass  fnlwgt   education  education_num  \\\n",
       "0   39          State-gov   77516   Bachelors             13   \n",
       "1   50   Self-emp-not-inc   83311   Bachelors             13   \n",
       "2   38            Private  215646     HS-grad              9   \n",
       "3   53            Private  234721        11th              7   \n",
       "4   28            Private  338409   Bachelors             13   \n",
       "5   37            Private  284582     Masters             14   \n",
       "6   49            Private  160187         9th              5   \n",
       "7   52   Self-emp-not-inc  209642     HS-grad              9   \n",
       "8   31            Private   45781     Masters             14   \n",
       "9   42            Private  159449   Bachelors             13   \n",
       "\n",
       "           marital_status          occupation    relationship ethnicity  \\\n",
       "0           Never-married        Adm-clerical   Not-in-family     White   \n",
       "1      Married-civ-spouse     Exec-managerial         Husband     White   \n",
       "2                Divorced   Handlers-cleaners   Not-in-family     White   \n",
       "3      Married-civ-spouse   Handlers-cleaners         Husband     Black   \n",
       "4      Married-civ-spouse      Prof-specialty            Wife     Black   \n",
       "5      Married-civ-spouse     Exec-managerial            Wife     White   \n",
       "6   Married-spouse-absent       Other-service   Not-in-family     Black   \n",
       "7      Married-civ-spouse     Exec-managerial         Husband     White   \n",
       "8           Never-married      Prof-specialty   Not-in-family     White   \n",
       "9      Married-civ-spouse     Exec-managerial         Husband     White   \n",
       "\n",
       "    gender  capital_gain  capital_loss  hours_per_week country_of_origin  \\\n",
       "0     Male          2174             0              40     United-States   \n",
       "1     Male             0             0              13     United-States   \n",
       "2     Male             0             0              40     United-States   \n",
       "3     Male             0             0              40     United-States   \n",
       "4   Female             0             0              40              Cuba   \n",
       "5   Female             0             0              40     United-States   \n",
       "6   Female             0             0              16           Jamaica   \n",
       "7     Male             0             0              45     United-States   \n",
       "8   Female         14084             0              50     United-States   \n",
       "9     Male          5178             0              40     United-States   \n",
       "\n",
       "   income  \n",
       "0   <=50K  \n",
       "1   <=50K  \n",
       "2   <=50K  \n",
       "3   <=50K  \n",
       "4   <=50K  \n",
       "5   <=50K  \n",
       "6   <=50K  \n",
       "7    >50K  \n",
       "8    >50K  \n",
       "9    >50K  "
      ]
     },
     "execution_count": 86,
     "metadata": {},
     "output_type": "execute_result"
    }
   ],
   "source": [
    "# Selects 10 rows             \n",
    "df.iloc[0:10]"
   ]
  },
  {
   "cell_type": "code",
   "execution_count": 87,
   "metadata": {},
   "outputs": [
    {
     "data": {
      "text/html": [
       "<div>\n",
       "<style scoped>\n",
       "    .dataframe tbody tr th:only-of-type {\n",
       "        vertical-align: middle;\n",
       "    }\n",
       "\n",
       "    .dataframe tbody tr th {\n",
       "        vertical-align: top;\n",
       "    }\n",
       "\n",
       "    .dataframe thead th {\n",
       "        text-align: right;\n",
       "    }\n",
       "</style>\n",
       "<table border=\"1\" class=\"dataframe\">\n",
       "  <thead>\n",
       "    <tr style=\"text-align: right;\">\n",
       "      <th></th>\n",
       "      <th>age</th>\n",
       "      <th>workclass</th>\n",
       "      <th>fnlwgt</th>\n",
       "      <th>education</th>\n",
       "      <th>education_num</th>\n",
       "      <th>marital_status</th>\n",
       "      <th>occupation</th>\n",
       "      <th>relationship</th>\n",
       "      <th>ethnicity</th>\n",
       "      <th>gender</th>\n",
       "      <th>capital_gain</th>\n",
       "      <th>capital_loss</th>\n",
       "      <th>hours_per_week</th>\n",
       "      <th>country_of_origin</th>\n",
       "      <th>income</th>\n",
       "    </tr>\n",
       "  </thead>\n",
       "  <tbody>\n",
       "    <tr>\n",
       "      <th>10</th>\n",
       "      <td>37</td>\n",
       "      <td>Private</td>\n",
       "      <td>280464</td>\n",
       "      <td>Some-college</td>\n",
       "      <td>10</td>\n",
       "      <td>Married-civ-spouse</td>\n",
       "      <td>Exec-managerial</td>\n",
       "      <td>Husband</td>\n",
       "      <td>Black</td>\n",
       "      <td>Male</td>\n",
       "      <td>0</td>\n",
       "      <td>0</td>\n",
       "      <td>80</td>\n",
       "      <td>United-States</td>\n",
       "      <td>&gt;50K</td>\n",
       "    </tr>\n",
       "    <tr>\n",
       "      <th>11</th>\n",
       "      <td>30</td>\n",
       "      <td>State-gov</td>\n",
       "      <td>141297</td>\n",
       "      <td>Bachelors</td>\n",
       "      <td>13</td>\n",
       "      <td>Married-civ-spouse</td>\n",
       "      <td>Prof-specialty</td>\n",
       "      <td>Husband</td>\n",
       "      <td>Asian-Pac-Islander</td>\n",
       "      <td>Male</td>\n",
       "      <td>0</td>\n",
       "      <td>0</td>\n",
       "      <td>40</td>\n",
       "      <td>India</td>\n",
       "      <td>&gt;50K</td>\n",
       "    </tr>\n",
       "    <tr>\n",
       "      <th>12</th>\n",
       "      <td>23</td>\n",
       "      <td>Private</td>\n",
       "      <td>122272</td>\n",
       "      <td>Bachelors</td>\n",
       "      <td>13</td>\n",
       "      <td>Never-married</td>\n",
       "      <td>Adm-clerical</td>\n",
       "      <td>Own-child</td>\n",
       "      <td>White</td>\n",
       "      <td>Female</td>\n",
       "      <td>0</td>\n",
       "      <td>0</td>\n",
       "      <td>30</td>\n",
       "      <td>United-States</td>\n",
       "      <td>&lt;=50K</td>\n",
       "    </tr>\n",
       "    <tr>\n",
       "      <th>13</th>\n",
       "      <td>32</td>\n",
       "      <td>Private</td>\n",
       "      <td>205019</td>\n",
       "      <td>Assoc-acdm</td>\n",
       "      <td>12</td>\n",
       "      <td>Never-married</td>\n",
       "      <td>Sales</td>\n",
       "      <td>Not-in-family</td>\n",
       "      <td>Black</td>\n",
       "      <td>Male</td>\n",
       "      <td>0</td>\n",
       "      <td>0</td>\n",
       "      <td>50</td>\n",
       "      <td>United-States</td>\n",
       "      <td>&lt;=50K</td>\n",
       "    </tr>\n",
       "    <tr>\n",
       "      <th>14</th>\n",
       "      <td>40</td>\n",
       "      <td>Private</td>\n",
       "      <td>121772</td>\n",
       "      <td>Assoc-voc</td>\n",
       "      <td>11</td>\n",
       "      <td>Married-civ-spouse</td>\n",
       "      <td>Craft-repair</td>\n",
       "      <td>Husband</td>\n",
       "      <td>Asian-Pac-Islander</td>\n",
       "      <td>Male</td>\n",
       "      <td>0</td>\n",
       "      <td>0</td>\n",
       "      <td>40</td>\n",
       "      <td>?</td>\n",
       "      <td>&gt;50K</td>\n",
       "    </tr>\n",
       "  </tbody>\n",
       "</table>\n",
       "</div>"
      ],
      "text/plain": [
       "    age   workclass  fnlwgt      education  education_num  \\\n",
       "10   37     Private  280464   Some-college             10   \n",
       "11   30   State-gov  141297      Bachelors             13   \n",
       "12   23     Private  122272      Bachelors             13   \n",
       "13   32     Private  205019     Assoc-acdm             12   \n",
       "14   40     Private  121772      Assoc-voc             11   \n",
       "\n",
       "         marital_status        occupation    relationship  \\\n",
       "10   Married-civ-spouse   Exec-managerial         Husband   \n",
       "11   Married-civ-spouse    Prof-specialty         Husband   \n",
       "12        Never-married      Adm-clerical       Own-child   \n",
       "13        Never-married             Sales   Not-in-family   \n",
       "14   Married-civ-spouse      Craft-repair         Husband   \n",
       "\n",
       "              ethnicity   gender  capital_gain  capital_loss  hours_per_week  \\\n",
       "10                Black     Male             0             0              80   \n",
       "11   Asian-Pac-Islander     Male             0             0              40   \n",
       "12                White   Female             0             0              30   \n",
       "13                Black     Male             0             0              50   \n",
       "14   Asian-Pac-Islander     Male             0             0              40   \n",
       "\n",
       "   country_of_origin  income  \n",
       "10     United-States    >50K  \n",
       "11             India    >50K  \n",
       "12     United-States   <=50K  \n",
       "13     United-States   <=50K  \n",
       "14                 ?    >50K  "
      ]
     },
     "execution_count": 87,
     "metadata": {},
     "output_type": "execute_result"
    }
   ],
   "source": [
    "# Selects a range of rows           \n",
    "df.iloc[10:15]            \n"
   ]
  },
  {
   "cell_type": "code",
   "execution_count": 88,
   "metadata": {},
   "outputs": [
    {
     "data": {
      "text/html": [
       "<div>\n",
       "<style scoped>\n",
       "    .dataframe tbody tr th:only-of-type {\n",
       "        vertical-align: middle;\n",
       "    }\n",
       "\n",
       "    .dataframe tbody tr th {\n",
       "        vertical-align: top;\n",
       "    }\n",
       "\n",
       "    .dataframe thead th {\n",
       "        text-align: right;\n",
       "    }\n",
       "</style>\n",
       "<table border=\"1\" class=\"dataframe\">\n",
       "  <thead>\n",
       "    <tr style=\"text-align: right;\">\n",
       "      <th></th>\n",
       "      <th>age</th>\n",
       "      <th>workclass</th>\n",
       "      <th>fnlwgt</th>\n",
       "      <th>education</th>\n",
       "      <th>education_num</th>\n",
       "      <th>marital_status</th>\n",
       "      <th>occupation</th>\n",
       "      <th>relationship</th>\n",
       "      <th>ethnicity</th>\n",
       "      <th>gender</th>\n",
       "      <th>capital_gain</th>\n",
       "      <th>capital_loss</th>\n",
       "      <th>hours_per_week</th>\n",
       "      <th>country_of_origin</th>\n",
       "      <th>income</th>\n",
       "    </tr>\n",
       "  </thead>\n",
       "  <tbody>\n",
       "    <tr>\n",
       "      <th>32559</th>\n",
       "      <td>22</td>\n",
       "      <td>Private</td>\n",
       "      <td>201490</td>\n",
       "      <td>HS-grad</td>\n",
       "      <td>9</td>\n",
       "      <td>Never-married</td>\n",
       "      <td>Adm-clerical</td>\n",
       "      <td>Own-child</td>\n",
       "      <td>White</td>\n",
       "      <td>Male</td>\n",
       "      <td>0</td>\n",
       "      <td>0</td>\n",
       "      <td>20</td>\n",
       "      <td>United-States</td>\n",
       "      <td>&lt;=50K</td>\n",
       "    </tr>\n",
       "    <tr>\n",
       "      <th>32560</th>\n",
       "      <td>52</td>\n",
       "      <td>Self-emp-inc</td>\n",
       "      <td>287927</td>\n",
       "      <td>HS-grad</td>\n",
       "      <td>9</td>\n",
       "      <td>Married-civ-spouse</td>\n",
       "      <td>Exec-managerial</td>\n",
       "      <td>Wife</td>\n",
       "      <td>White</td>\n",
       "      <td>Female</td>\n",
       "      <td>15024</td>\n",
       "      <td>0</td>\n",
       "      <td>40</td>\n",
       "      <td>United-States</td>\n",
       "      <td>&gt;50K</td>\n",
       "    </tr>\n",
       "  </tbody>\n",
       "</table>\n",
       "</div>"
      ],
      "text/plain": [
       "       age      workclass  fnlwgt education  education_num  \\\n",
       "32559   22        Private  201490   HS-grad              9   \n",
       "32560   52   Self-emp-inc  287927   HS-grad              9   \n",
       "\n",
       "            marital_status        occupation relationship ethnicity   gender  \\\n",
       "32559        Never-married      Adm-clerical    Own-child     White     Male   \n",
       "32560   Married-civ-spouse   Exec-managerial         Wife     White   Female   \n",
       "\n",
       "       capital_gain  capital_loss  hours_per_week country_of_origin  income  \n",
       "32559             0             0              20     United-States   <=50K  \n",
       "32560         15024             0              40     United-States    >50K  "
      ]
     },
     "execution_count": 88,
     "metadata": {},
     "output_type": "execute_result"
    }
   ],
   "source": [
    " # Selects the last 2 rows\n",
    "df.iloc[-2:]  \n"
   ]
  },
  {
   "cell_type": "code",
   "execution_count": 89,
   "metadata": {},
   "outputs": [
    {
     "data": {
      "text/html": [
       "<div>\n",
       "<style scoped>\n",
       "    .dataframe tbody tr th:only-of-type {\n",
       "        vertical-align: middle;\n",
       "    }\n",
       "\n",
       "    .dataframe tbody tr th {\n",
       "        vertical-align: top;\n",
       "    }\n",
       "\n",
       "    .dataframe thead th {\n",
       "        text-align: right;\n",
       "    }\n",
       "</style>\n",
       "<table border=\"1\" class=\"dataframe\">\n",
       "  <thead>\n",
       "    <tr style=\"text-align: right;\">\n",
       "      <th></th>\n",
       "      <th>education</th>\n",
       "      <th>education_num</th>\n",
       "    </tr>\n",
       "  </thead>\n",
       "  <tbody>\n",
       "    <tr>\n",
       "      <th>0</th>\n",
       "      <td>Bachelors</td>\n",
       "      <td>13</td>\n",
       "    </tr>\n",
       "    <tr>\n",
       "      <th>2</th>\n",
       "      <td>HS-grad</td>\n",
       "      <td>9</td>\n",
       "    </tr>\n",
       "    <tr>\n",
       "      <th>4</th>\n",
       "      <td>Bachelors</td>\n",
       "      <td>13</td>\n",
       "    </tr>\n",
       "    <tr>\n",
       "      <th>6</th>\n",
       "      <td>9th</td>\n",
       "      <td>5</td>\n",
       "    </tr>\n",
       "    <tr>\n",
       "      <th>8</th>\n",
       "      <td>Masters</td>\n",
       "      <td>14</td>\n",
       "    </tr>\n",
       "  </tbody>\n",
       "</table>\n",
       "</div>"
      ],
      "text/plain": [
       "    education  education_num\n",
       "0   Bachelors             13\n",
       "2     HS-grad              9\n",
       "4   Bachelors             13\n",
       "6         9th              5\n",
       "8     Masters             14"
      ]
     },
     "execution_count": 89,
     "metadata": {},
     "output_type": "execute_result"
    }
   ],
   "source": [
    "\n",
    "# Selects every other row in columns 3-5\n",
    "df.iloc[::2, 3:5].head() "
   ]
  },
  {
   "cell_type": "code",
   "execution_count": 91,
   "metadata": {
    "colab": {
     "base_uri": "https://localhost:8080/",
     "height": 359
    },
    "colab_type": "code",
    "id": "5UPm1FfxY6Ci",
    "outputId": "8faeb4b0-77b1-4e63-84f2-3a8ccce7d096"
   },
   "outputs": [
    {
     "data": {
      "text/html": [
       "<div>\n",
       "<style scoped>\n",
       "    .dataframe tbody tr th:only-of-type {\n",
       "        vertical-align: middle;\n",
       "    }\n",
       "\n",
       "    .dataframe tbody tr th {\n",
       "        vertical-align: top;\n",
       "    }\n",
       "\n",
       "    .dataframe thead th {\n",
       "        text-align: right;\n",
       "    }\n",
       "</style>\n",
       "<table border=\"1\" class=\"dataframe\">\n",
       "  <thead>\n",
       "    <tr style=\"text-align: right;\">\n",
       "      <th></th>\n",
       "      <th>F</th>\n",
       "      <th>E</th>\n",
       "      <th>D</th>\n",
       "      <th>C</th>\n",
       "      <th>B</th>\n",
       "      <th>A</th>\n",
       "    </tr>\n",
       "  </thead>\n",
       "  <tbody>\n",
       "    <tr>\n",
       "      <th>0</th>\n",
       "      <td>1.0</td>\n",
       "      <td>1.329212</td>\n",
       "      <td>NaN</td>\n",
       "      <td>-0.316280</td>\n",
       "      <td>-0.990810</td>\n",
       "      <td>-1.070816</td>\n",
       "    </tr>\n",
       "    <tr>\n",
       "      <th>1</th>\n",
       "      <td>2.0</td>\n",
       "      <td>-1.438713</td>\n",
       "      <td>0.564417</td>\n",
       "      <td>0.295722</td>\n",
       "      <td>-1.626404</td>\n",
       "      <td>0.219565</td>\n",
       "    </tr>\n",
       "    <tr>\n",
       "      <th>2</th>\n",
       "      <td>3.0</td>\n",
       "      <td>0.678805</td>\n",
       "      <td>1.889273</td>\n",
       "      <td>0.961538</td>\n",
       "      <td>0.104011</td>\n",
       "      <td>-0.481165</td>\n",
       "    </tr>\n",
       "    <tr>\n",
       "      <th>3</th>\n",
       "      <td>4.0</td>\n",
       "      <td>0.850229</td>\n",
       "      <td>1.453425</td>\n",
       "      <td>1.057737</td>\n",
       "      <td>0.165562</td>\n",
       "      <td>0.515018</td>\n",
       "    </tr>\n",
       "    <tr>\n",
       "      <th>4</th>\n",
       "      <td>5.0</td>\n",
       "      <td>-1.336936</td>\n",
       "      <td>0.562861</td>\n",
       "      <td>1.392855</td>\n",
       "      <td>-0.063328</td>\n",
       "      <td>0.121668</td>\n",
       "    </tr>\n",
       "    <tr>\n",
       "      <th>5</th>\n",
       "      <td>6.0</td>\n",
       "      <td>1.207603</td>\n",
       "      <td>-0.002040</td>\n",
       "      <td>1.627796</td>\n",
       "      <td>0.354493</td>\n",
       "      <td>1.037528</td>\n",
       "    </tr>\n",
       "    <tr>\n",
       "      <th>6</th>\n",
       "      <td>7.0</td>\n",
       "      <td>-0.385684</td>\n",
       "      <td>0.519818</td>\n",
       "      <td>1.686583</td>\n",
       "      <td>-1.325963</td>\n",
       "      <td>1.428984</td>\n",
       "    </tr>\n",
       "    <tr>\n",
       "      <th>7</th>\n",
       "      <td>8.0</td>\n",
       "      <td>-2.089354</td>\n",
       "      <td>-0.129820</td>\n",
       "      <td>0.631523</td>\n",
       "      <td>-0.586538</td>\n",
       "      <td>0.290720</td>\n",
       "    </tr>\n",
       "    <tr>\n",
       "      <th>8</th>\n",
       "      <td>9.0</td>\n",
       "      <td>1.264103</td>\n",
       "      <td>0.290035</td>\n",
       "      <td>-1.970288</td>\n",
       "      <td>0.803906</td>\n",
       "      <td>1.030550</td>\n",
       "    </tr>\n",
       "    <tr>\n",
       "      <th>9</th>\n",
       "      <td>10.0</td>\n",
       "      <td>0.118098</td>\n",
       "      <td>-0.021853</td>\n",
       "      <td>0.046841</td>\n",
       "      <td>-1.628753</td>\n",
       "      <td>-0.392361</td>\n",
       "    </tr>\n",
       "  </tbody>\n",
       "</table>\n",
       "</div>"
      ],
      "text/plain": [
       "      F         E         D         C         B         A\n",
       "0   1.0  1.329212       NaN -0.316280 -0.990810 -1.070816\n",
       "1   2.0 -1.438713  0.564417  0.295722 -1.626404  0.219565\n",
       "2   3.0  0.678805  1.889273  0.961538  0.104011 -0.481165\n",
       "3   4.0  0.850229  1.453425  1.057737  0.165562  0.515018\n",
       "4   5.0 -1.336936  0.562861  1.392855 -0.063328  0.121668\n",
       "5   6.0  1.207603 -0.002040  1.627796  0.354493  1.037528\n",
       "6   7.0 -0.385684  0.519818  1.686583 -1.325963  1.428984\n",
       "7   8.0 -2.089354 -0.129820  0.631523 -0.586538  0.290720\n",
       "8   9.0  1.264103  0.290035 -1.970288  0.803906  1.030550\n",
       "9  10.0  0.118098 -0.021853  0.046841 -1.628753 -0.392361"
      ]
     },
     "execution_count": 91,
     "metadata": {},
     "output_type": "execute_result"
    }
   ],
   "source": [
    "import pandas as pd\n",
    "import numpy as np\n",
    "\n",
    "np.random.seed(24)\n",
    "df = pd.DataFrame({'F': np.linspace(1, 10, 10)})\n",
    "df = pd.concat([df, pd.DataFrame(np.random.randn(10, 5), columns=list('EDCBA'))],\n",
    "               axis=1)\n",
    "df.iloc[0, 2] = np.nan\n",
    "df"
   ]
  },
  {
   "cell_type": "code",
   "execution_count": 108,
   "metadata": {
    "colab": {},
    "colab_type": "code",
    "id": "jxhzDHBBZcRJ"
   },
   "outputs": [],
   "source": [
    "# Define a function that should color the values that are less than 0 \n",
    "def colorNegativeValueToRed(value):\n",
    "  if value < 0:\n",
    "    color = 'blue'\n",
    "  elif value > 0:\n",
    "    color = 'green'\n",
    "  else:\n",
    "    color = 'red'\n",
    "\n",
    "  return 'color: %s' % color"
   ]
  },
  {
   "cell_type": "code",
   "execution_count": 113,
   "metadata": {
    "colab": {
     "base_uri": "https://localhost:8080/",
     "height": 250
    },
    "colab_type": "code",
    "id": "y_LyCSgJZftx",
    "outputId": "d63c5e6a-d395-41dd-8069-0d4cb7655ab9"
   },
   "outputs": [
    {
     "data": {
      "text/html": [
       "<style type=\"text/css\">\n",
       "#T_1e1e7_row0_col4, #T_1e1e7_row0_col5, #T_1e1e7_row1_col4, #T_1e1e7_row2_col5, #T_1e1e7_row4_col4, #T_1e1e7_row6_col4, #T_1e1e7_row7_col4, #T_1e1e7_row9_col4, #T_1e1e7_row9_col5 {\n",
       "  color: blue;\n",
       "}\n",
       "#T_1e1e7_row1_col5, #T_1e1e7_row2_col4, #T_1e1e7_row3_col4, #T_1e1e7_row3_col5, #T_1e1e7_row4_col5, #T_1e1e7_row5_col4, #T_1e1e7_row5_col5, #T_1e1e7_row6_col5, #T_1e1e7_row7_col5, #T_1e1e7_row8_col4, #T_1e1e7_row8_col5 {\n",
       "  color: green;\n",
       "}\n",
       "</style>\n",
       "<table id=\"T_1e1e7\">\n",
       "  <thead>\n",
       "    <tr>\n",
       "      <th class=\"blank level0\" >&nbsp;</th>\n",
       "      <th id=\"T_1e1e7_level0_col0\" class=\"col_heading level0 col0\" >F</th>\n",
       "      <th id=\"T_1e1e7_level0_col1\" class=\"col_heading level0 col1\" >E</th>\n",
       "      <th id=\"T_1e1e7_level0_col2\" class=\"col_heading level0 col2\" >D</th>\n",
       "      <th id=\"T_1e1e7_level0_col3\" class=\"col_heading level0 col3\" >C</th>\n",
       "      <th id=\"T_1e1e7_level0_col4\" class=\"col_heading level0 col4\" >B</th>\n",
       "      <th id=\"T_1e1e7_level0_col5\" class=\"col_heading level0 col5\" >A</th>\n",
       "    </tr>\n",
       "  </thead>\n",
       "  <tbody>\n",
       "    <tr>\n",
       "      <th id=\"T_1e1e7_level0_row0\" class=\"row_heading level0 row0\" >0</th>\n",
       "      <td id=\"T_1e1e7_row0_col0\" class=\"data row0 col0\" >1.000000</td>\n",
       "      <td id=\"T_1e1e7_row0_col1\" class=\"data row0 col1\" >1.329212</td>\n",
       "      <td id=\"T_1e1e7_row0_col2\" class=\"data row0 col2\" >nan</td>\n",
       "      <td id=\"T_1e1e7_row0_col3\" class=\"data row0 col3\" >-0.316280</td>\n",
       "      <td id=\"T_1e1e7_row0_col4\" class=\"data row0 col4\" >-0.990810</td>\n",
       "      <td id=\"T_1e1e7_row0_col5\" class=\"data row0 col5\" >-1.070816</td>\n",
       "    </tr>\n",
       "    <tr>\n",
       "      <th id=\"T_1e1e7_level0_row1\" class=\"row_heading level0 row1\" >1</th>\n",
       "      <td id=\"T_1e1e7_row1_col0\" class=\"data row1 col0\" >2.000000</td>\n",
       "      <td id=\"T_1e1e7_row1_col1\" class=\"data row1 col1\" >-1.438713</td>\n",
       "      <td id=\"T_1e1e7_row1_col2\" class=\"data row1 col2\" >0.564417</td>\n",
       "      <td id=\"T_1e1e7_row1_col3\" class=\"data row1 col3\" >0.295722</td>\n",
       "      <td id=\"T_1e1e7_row1_col4\" class=\"data row1 col4\" >-1.626404</td>\n",
       "      <td id=\"T_1e1e7_row1_col5\" class=\"data row1 col5\" >0.219565</td>\n",
       "    </tr>\n",
       "    <tr>\n",
       "      <th id=\"T_1e1e7_level0_row2\" class=\"row_heading level0 row2\" >2</th>\n",
       "      <td id=\"T_1e1e7_row2_col0\" class=\"data row2 col0\" >3.000000</td>\n",
       "      <td id=\"T_1e1e7_row2_col1\" class=\"data row2 col1\" >0.678805</td>\n",
       "      <td id=\"T_1e1e7_row2_col2\" class=\"data row2 col2\" >1.889273</td>\n",
       "      <td id=\"T_1e1e7_row2_col3\" class=\"data row2 col3\" >0.961538</td>\n",
       "      <td id=\"T_1e1e7_row2_col4\" class=\"data row2 col4\" >0.104011</td>\n",
       "      <td id=\"T_1e1e7_row2_col5\" class=\"data row2 col5\" >-0.481165</td>\n",
       "    </tr>\n",
       "    <tr>\n",
       "      <th id=\"T_1e1e7_level0_row3\" class=\"row_heading level0 row3\" >3</th>\n",
       "      <td id=\"T_1e1e7_row3_col0\" class=\"data row3 col0\" >4.000000</td>\n",
       "      <td id=\"T_1e1e7_row3_col1\" class=\"data row3 col1\" >0.850229</td>\n",
       "      <td id=\"T_1e1e7_row3_col2\" class=\"data row3 col2\" >1.453425</td>\n",
       "      <td id=\"T_1e1e7_row3_col3\" class=\"data row3 col3\" >1.057737</td>\n",
       "      <td id=\"T_1e1e7_row3_col4\" class=\"data row3 col4\" >0.165562</td>\n",
       "      <td id=\"T_1e1e7_row3_col5\" class=\"data row3 col5\" >0.515018</td>\n",
       "    </tr>\n",
       "    <tr>\n",
       "      <th id=\"T_1e1e7_level0_row4\" class=\"row_heading level0 row4\" >4</th>\n",
       "      <td id=\"T_1e1e7_row4_col0\" class=\"data row4 col0\" >5.000000</td>\n",
       "      <td id=\"T_1e1e7_row4_col1\" class=\"data row4 col1\" >-1.336936</td>\n",
       "      <td id=\"T_1e1e7_row4_col2\" class=\"data row4 col2\" >0.562861</td>\n",
       "      <td id=\"T_1e1e7_row4_col3\" class=\"data row4 col3\" >1.392855</td>\n",
       "      <td id=\"T_1e1e7_row4_col4\" class=\"data row4 col4\" >-0.063328</td>\n",
       "      <td id=\"T_1e1e7_row4_col5\" class=\"data row4 col5\" >0.121668</td>\n",
       "    </tr>\n",
       "    <tr>\n",
       "      <th id=\"T_1e1e7_level0_row5\" class=\"row_heading level0 row5\" >5</th>\n",
       "      <td id=\"T_1e1e7_row5_col0\" class=\"data row5 col0\" >6.000000</td>\n",
       "      <td id=\"T_1e1e7_row5_col1\" class=\"data row5 col1\" >1.207603</td>\n",
       "      <td id=\"T_1e1e7_row5_col2\" class=\"data row5 col2\" >-0.002040</td>\n",
       "      <td id=\"T_1e1e7_row5_col3\" class=\"data row5 col3\" >1.627796</td>\n",
       "      <td id=\"T_1e1e7_row5_col4\" class=\"data row5 col4\" >0.354493</td>\n",
       "      <td id=\"T_1e1e7_row5_col5\" class=\"data row5 col5\" >1.037528</td>\n",
       "    </tr>\n",
       "    <tr>\n",
       "      <th id=\"T_1e1e7_level0_row6\" class=\"row_heading level0 row6\" >6</th>\n",
       "      <td id=\"T_1e1e7_row6_col0\" class=\"data row6 col0\" >7.000000</td>\n",
       "      <td id=\"T_1e1e7_row6_col1\" class=\"data row6 col1\" >-0.385684</td>\n",
       "      <td id=\"T_1e1e7_row6_col2\" class=\"data row6 col2\" >0.519818</td>\n",
       "      <td id=\"T_1e1e7_row6_col3\" class=\"data row6 col3\" >1.686583</td>\n",
       "      <td id=\"T_1e1e7_row6_col4\" class=\"data row6 col4\" >-1.325963</td>\n",
       "      <td id=\"T_1e1e7_row6_col5\" class=\"data row6 col5\" >1.428984</td>\n",
       "    </tr>\n",
       "    <tr>\n",
       "      <th id=\"T_1e1e7_level0_row7\" class=\"row_heading level0 row7\" >7</th>\n",
       "      <td id=\"T_1e1e7_row7_col0\" class=\"data row7 col0\" >8.000000</td>\n",
       "      <td id=\"T_1e1e7_row7_col1\" class=\"data row7 col1\" >-2.089354</td>\n",
       "      <td id=\"T_1e1e7_row7_col2\" class=\"data row7 col2\" >-0.129820</td>\n",
       "      <td id=\"T_1e1e7_row7_col3\" class=\"data row7 col3\" >0.631523</td>\n",
       "      <td id=\"T_1e1e7_row7_col4\" class=\"data row7 col4\" >-0.586538</td>\n",
       "      <td id=\"T_1e1e7_row7_col5\" class=\"data row7 col5\" >0.290720</td>\n",
       "    </tr>\n",
       "    <tr>\n",
       "      <th id=\"T_1e1e7_level0_row8\" class=\"row_heading level0 row8\" >8</th>\n",
       "      <td id=\"T_1e1e7_row8_col0\" class=\"data row8 col0\" >9.000000</td>\n",
       "      <td id=\"T_1e1e7_row8_col1\" class=\"data row8 col1\" >1.264103</td>\n",
       "      <td id=\"T_1e1e7_row8_col2\" class=\"data row8 col2\" >0.290035</td>\n",
       "      <td id=\"T_1e1e7_row8_col3\" class=\"data row8 col3\" >-1.970288</td>\n",
       "      <td id=\"T_1e1e7_row8_col4\" class=\"data row8 col4\" >0.803906</td>\n",
       "      <td id=\"T_1e1e7_row8_col5\" class=\"data row8 col5\" >1.030550</td>\n",
       "    </tr>\n",
       "    <tr>\n",
       "      <th id=\"T_1e1e7_level0_row9\" class=\"row_heading level0 row9\" >9</th>\n",
       "      <td id=\"T_1e1e7_row9_col0\" class=\"data row9 col0\" >10.000000</td>\n",
       "      <td id=\"T_1e1e7_row9_col1\" class=\"data row9 col1\" >0.118098</td>\n",
       "      <td id=\"T_1e1e7_row9_col2\" class=\"data row9 col2\" >-0.021853</td>\n",
       "      <td id=\"T_1e1e7_row9_col3\" class=\"data row9 col3\" >0.046841</td>\n",
       "      <td id=\"T_1e1e7_row9_col4\" class=\"data row9 col4\" >-1.628753</td>\n",
       "      <td id=\"T_1e1e7_row9_col5\" class=\"data row9 col5\" >-0.392361</td>\n",
       "    </tr>\n",
       "  </tbody>\n",
       "</table>\n"
      ],
      "text/plain": [
       "<pandas.io.formats.style.Styler at 0x1c2322cfbd0>"
      ]
     },
     "execution_count": 113,
     "metadata": {},
     "output_type": "execute_result"
    }
   ],
   "source": [
    "s = df.style.map(colorNegativeValueToRed, subset=['A','B'])\n",
    "s"
   ]
  },
  {
   "cell_type": "code",
   "execution_count": 116,
   "metadata": {
    "colab": {},
    "colab_type": "code",
    "id": "X1hCinxPaHFg"
   },
   "outputs": [],
   "source": [
    "# Let us hightlight max value in the column with green background and min value with orange background\n",
    "def highlightMax(s):\n",
    "    isMax = s == s.max()\n",
    "    return ['background-color: orange' if v else '' for v in isMax]\n",
    "\n",
    "def highlightMin(s):\n",
    "    isMin = s == s.min()\n",
    "    return ['background-color: green' if v else '' for v in isMin]"
   ]
  },
  {
   "cell_type": "code",
   "execution_count": 120,
   "metadata": {
    "colab": {
     "base_uri": "https://localhost:8080/",
     "height": 250
    },
    "colab_type": "code",
    "id": "p5EDYgUxau5T",
    "outputId": "6403a08c-297a-48f8-d885-f6268d28874d"
   },
   "outputs": [
    {
     "data": {
      "text/html": [
       "<style type=\"text/css\">\n",
       "#T_24a7f_row0_col0, #T_24a7f_row0_col5, #T_24a7f_row7_col1, #T_24a7f_row7_col2, #T_24a7f_row8_col3, #T_24a7f_row9_col4 {\n",
       "  background-color: green;\n",
       "}\n",
       "#T_24a7f_row0_col1, #T_24a7f_row2_col2, #T_24a7f_row6_col3, #T_24a7f_row6_col5, #T_24a7f_row8_col4, #T_24a7f_row9_col0 {\n",
       "  background-color: orange;\n",
       "}\n",
       "#T_24a7f_row0_col2 {\n",
       "  background-color: red;\n",
       "}\n",
       "</style>\n",
       "<table id=\"T_24a7f\">\n",
       "  <thead>\n",
       "    <tr>\n",
       "      <th class=\"blank level0\" >&nbsp;</th>\n",
       "      <th id=\"T_24a7f_level0_col0\" class=\"col_heading level0 col0\" >F</th>\n",
       "      <th id=\"T_24a7f_level0_col1\" class=\"col_heading level0 col1\" >E</th>\n",
       "      <th id=\"T_24a7f_level0_col2\" class=\"col_heading level0 col2\" >D</th>\n",
       "      <th id=\"T_24a7f_level0_col3\" class=\"col_heading level0 col3\" >C</th>\n",
       "      <th id=\"T_24a7f_level0_col4\" class=\"col_heading level0 col4\" >B</th>\n",
       "      <th id=\"T_24a7f_level0_col5\" class=\"col_heading level0 col5\" >A</th>\n",
       "    </tr>\n",
       "  </thead>\n",
       "  <tbody>\n",
       "    <tr>\n",
       "      <th id=\"T_24a7f_level0_row0\" class=\"row_heading level0 row0\" >0</th>\n",
       "      <td id=\"T_24a7f_row0_col0\" class=\"data row0 col0\" >1.000000</td>\n",
       "      <td id=\"T_24a7f_row0_col1\" class=\"data row0 col1\" >1.329212</td>\n",
       "      <td id=\"T_24a7f_row0_col2\" class=\"data row0 col2\" >nan</td>\n",
       "      <td id=\"T_24a7f_row0_col3\" class=\"data row0 col3\" >-0.316280</td>\n",
       "      <td id=\"T_24a7f_row0_col4\" class=\"data row0 col4\" >-0.990810</td>\n",
       "      <td id=\"T_24a7f_row0_col5\" class=\"data row0 col5\" >-1.070816</td>\n",
       "    </tr>\n",
       "    <tr>\n",
       "      <th id=\"T_24a7f_level0_row1\" class=\"row_heading level0 row1\" >1</th>\n",
       "      <td id=\"T_24a7f_row1_col0\" class=\"data row1 col0\" >2.000000</td>\n",
       "      <td id=\"T_24a7f_row1_col1\" class=\"data row1 col1\" >-1.438713</td>\n",
       "      <td id=\"T_24a7f_row1_col2\" class=\"data row1 col2\" >0.564417</td>\n",
       "      <td id=\"T_24a7f_row1_col3\" class=\"data row1 col3\" >0.295722</td>\n",
       "      <td id=\"T_24a7f_row1_col4\" class=\"data row1 col4\" >-1.626404</td>\n",
       "      <td id=\"T_24a7f_row1_col5\" class=\"data row1 col5\" >0.219565</td>\n",
       "    </tr>\n",
       "    <tr>\n",
       "      <th id=\"T_24a7f_level0_row2\" class=\"row_heading level0 row2\" >2</th>\n",
       "      <td id=\"T_24a7f_row2_col0\" class=\"data row2 col0\" >3.000000</td>\n",
       "      <td id=\"T_24a7f_row2_col1\" class=\"data row2 col1\" >0.678805</td>\n",
       "      <td id=\"T_24a7f_row2_col2\" class=\"data row2 col2\" >1.889273</td>\n",
       "      <td id=\"T_24a7f_row2_col3\" class=\"data row2 col3\" >0.961538</td>\n",
       "      <td id=\"T_24a7f_row2_col4\" class=\"data row2 col4\" >0.104011</td>\n",
       "      <td id=\"T_24a7f_row2_col5\" class=\"data row2 col5\" >-0.481165</td>\n",
       "    </tr>\n",
       "    <tr>\n",
       "      <th id=\"T_24a7f_level0_row3\" class=\"row_heading level0 row3\" >3</th>\n",
       "      <td id=\"T_24a7f_row3_col0\" class=\"data row3 col0\" >4.000000</td>\n",
       "      <td id=\"T_24a7f_row3_col1\" class=\"data row3 col1\" >0.850229</td>\n",
       "      <td id=\"T_24a7f_row3_col2\" class=\"data row3 col2\" >1.453425</td>\n",
       "      <td id=\"T_24a7f_row3_col3\" class=\"data row3 col3\" >1.057737</td>\n",
       "      <td id=\"T_24a7f_row3_col4\" class=\"data row3 col4\" >0.165562</td>\n",
       "      <td id=\"T_24a7f_row3_col5\" class=\"data row3 col5\" >0.515018</td>\n",
       "    </tr>\n",
       "    <tr>\n",
       "      <th id=\"T_24a7f_level0_row4\" class=\"row_heading level0 row4\" >4</th>\n",
       "      <td id=\"T_24a7f_row4_col0\" class=\"data row4 col0\" >5.000000</td>\n",
       "      <td id=\"T_24a7f_row4_col1\" class=\"data row4 col1\" >-1.336936</td>\n",
       "      <td id=\"T_24a7f_row4_col2\" class=\"data row4 col2\" >0.562861</td>\n",
       "      <td id=\"T_24a7f_row4_col3\" class=\"data row4 col3\" >1.392855</td>\n",
       "      <td id=\"T_24a7f_row4_col4\" class=\"data row4 col4\" >-0.063328</td>\n",
       "      <td id=\"T_24a7f_row4_col5\" class=\"data row4 col5\" >0.121668</td>\n",
       "    </tr>\n",
       "    <tr>\n",
       "      <th id=\"T_24a7f_level0_row5\" class=\"row_heading level0 row5\" >5</th>\n",
       "      <td id=\"T_24a7f_row5_col0\" class=\"data row5 col0\" >6.000000</td>\n",
       "      <td id=\"T_24a7f_row5_col1\" class=\"data row5 col1\" >1.207603</td>\n",
       "      <td id=\"T_24a7f_row5_col2\" class=\"data row5 col2\" >-0.002040</td>\n",
       "      <td id=\"T_24a7f_row5_col3\" class=\"data row5 col3\" >1.627796</td>\n",
       "      <td id=\"T_24a7f_row5_col4\" class=\"data row5 col4\" >0.354493</td>\n",
       "      <td id=\"T_24a7f_row5_col5\" class=\"data row5 col5\" >1.037528</td>\n",
       "    </tr>\n",
       "    <tr>\n",
       "      <th id=\"T_24a7f_level0_row6\" class=\"row_heading level0 row6\" >6</th>\n",
       "      <td id=\"T_24a7f_row6_col0\" class=\"data row6 col0\" >7.000000</td>\n",
       "      <td id=\"T_24a7f_row6_col1\" class=\"data row6 col1\" >-0.385684</td>\n",
       "      <td id=\"T_24a7f_row6_col2\" class=\"data row6 col2\" >0.519818</td>\n",
       "      <td id=\"T_24a7f_row6_col3\" class=\"data row6 col3\" >1.686583</td>\n",
       "      <td id=\"T_24a7f_row6_col4\" class=\"data row6 col4\" >-1.325963</td>\n",
       "      <td id=\"T_24a7f_row6_col5\" class=\"data row6 col5\" >1.428984</td>\n",
       "    </tr>\n",
       "    <tr>\n",
       "      <th id=\"T_24a7f_level0_row7\" class=\"row_heading level0 row7\" >7</th>\n",
       "      <td id=\"T_24a7f_row7_col0\" class=\"data row7 col0\" >8.000000</td>\n",
       "      <td id=\"T_24a7f_row7_col1\" class=\"data row7 col1\" >-2.089354</td>\n",
       "      <td id=\"T_24a7f_row7_col2\" class=\"data row7 col2\" >-0.129820</td>\n",
       "      <td id=\"T_24a7f_row7_col3\" class=\"data row7 col3\" >0.631523</td>\n",
       "      <td id=\"T_24a7f_row7_col4\" class=\"data row7 col4\" >-0.586538</td>\n",
       "      <td id=\"T_24a7f_row7_col5\" class=\"data row7 col5\" >0.290720</td>\n",
       "    </tr>\n",
       "    <tr>\n",
       "      <th id=\"T_24a7f_level0_row8\" class=\"row_heading level0 row8\" >8</th>\n",
       "      <td id=\"T_24a7f_row8_col0\" class=\"data row8 col0\" >9.000000</td>\n",
       "      <td id=\"T_24a7f_row8_col1\" class=\"data row8 col1\" >1.264103</td>\n",
       "      <td id=\"T_24a7f_row8_col2\" class=\"data row8 col2\" >0.290035</td>\n",
       "      <td id=\"T_24a7f_row8_col3\" class=\"data row8 col3\" >-1.970288</td>\n",
       "      <td id=\"T_24a7f_row8_col4\" class=\"data row8 col4\" >0.803906</td>\n",
       "      <td id=\"T_24a7f_row8_col5\" class=\"data row8 col5\" >1.030550</td>\n",
       "    </tr>\n",
       "    <tr>\n",
       "      <th id=\"T_24a7f_level0_row9\" class=\"row_heading level0 row9\" >9</th>\n",
       "      <td id=\"T_24a7f_row9_col0\" class=\"data row9 col0\" >10.000000</td>\n",
       "      <td id=\"T_24a7f_row9_col1\" class=\"data row9 col1\" >0.118098</td>\n",
       "      <td id=\"T_24a7f_row9_col2\" class=\"data row9 col2\" >-0.021853</td>\n",
       "      <td id=\"T_24a7f_row9_col3\" class=\"data row9 col3\" >0.046841</td>\n",
       "      <td id=\"T_24a7f_row9_col4\" class=\"data row9 col4\" >-1.628753</td>\n",
       "      <td id=\"T_24a7f_row9_col5\" class=\"data row9 col5\" >-0.392361</td>\n",
       "    </tr>\n",
       "  </tbody>\n",
       "</table>\n"
      ],
      "text/plain": [
       "<pandas.io.formats.style.Styler at 0x1c2341bf290>"
      ]
     },
     "execution_count": 120,
     "metadata": {},
     "output_type": "execute_result"
    }
   ],
   "source": [
    "df.style.apply(highlightMax).apply(highlightMin).highlight_null(color='red')\n"
   ]
  },
  {
   "cell_type": "code",
   "execution_count": 135,
   "metadata": {
    "colab": {
     "base_uri": "https://localhost:8080/",
     "height": 304
    },
    "colab_type": "code",
    "id": "-cHAMWkfbylZ",
    "outputId": "9c37931b-f9ab-4666-c27f-f57955c1c39b"
   },
   "outputs": [],
   "source": [
    "import seaborn as sns\n",
    "\n"
   ]
  },
  {
   "cell_type": "code",
   "execution_count": 136,
   "metadata": {},
   "outputs": [],
   "source": [
    "cm = sns.light_palette(\"pink\", as_cmap=True)\n"
   ]
  },
  {
   "cell_type": "code",
   "execution_count": 140,
   "metadata": {},
   "outputs": [
    {
     "data": {
      "image/png": "[encoded data removed]",
      "text/html": [
       "<div style=\"vertical-align: middle;\"><strong>blend</strong> </div><div class=\"cmap\"><img alt=\"blend colormap\" title=\"blend\" style=\"border: 1px solid #555;\" src=\"data:image/png;base64,iVBORw0KGgoAAAANSUhEUgAAAgAAAABACAYAAABsv8+/AAAAFHRFWHRUaXRsZQBibGVuZCBjb2xvcm1hcKH0gPAAAAAadEVYdERlc2NyaXB0aW9uAGJsZW5kIGNvbG9ybWFwX6spFgAAADB0RVh0QXV0aG9yAE1hdHBsb3RsaWIgdjMuOC4wLCBodHRwczovL21hdHBsb3RsaWIub3Jnn3P4TwAAADJ0RVh0U29mdHdhcmUATWF0cGxvdGxpYiB2My44LjAsIGh0dHBzOi8vbWF0cGxvdGxpYi5vcmex1WdoAAABq0lEQVR4nO3WUU7CQBRAUev+96pxA+XDSGLL0KKlJt5z/hiG6Wsh5E4fb+/zy02fy9Pt5TvmnfuW5218YPX294X9c853X46vv3fj8tyz5jz2vrbnfPT7Grxx9Jyrc3/3u9paHm5YvBzPufMBnPT8j5vz4PvanPPB/53rx/5ozo1jVhuO/j9dbJuWC8NzNw568vP/+Zwn3dd1zuf+roYbdl726zm+7tsOAPwnAgAAggQAAAQJAAAIEgAAECQAACBIAABAkAAAgCABAABBAgAAggQAAAQJAAAIEgAAECQAACBIAABAkAAAgCABAABBAgAAggQAAAQJAAAIEgAAECQAACBIAABAkAAAgCABAABBAgAAggQAAAQJAAAIEgAAECQAACBIAABAkAAAgCABAABBAgAAggQAAAQJAAAIEgAAECQAACBIAABAkAAAgCABAABBAgAAggQAAAQJAAAIEgAAECQAACBIAABAkAAAgCABAABBAgAAggQAAAQJAAAIEgAAECQAACBIAABAkAAAgCABAABBAgAAggQAAAQJAAAIEgAAECQAACBIAABA0AU1HVgJL8+uawAAAABJRU5ErkJggg==\"></div><div style=\"vertical-align: middle; max-width: 514px; display: flex; justify-content: space-between;\"><div style=\"float: left;\"><div title=\"#f3f0f0ff\" style=\"display: inline-block; width: 1em; height: 1em; margin: 0; vertical-align: middle; border: 1px solid #555; background-color: #f3f0f0ff;\"></div> under</div><div style=\"margin: 0 auto; display: inline-block;\">bad <div title=\"#00000000\" style=\"display: inline-block; width: 1em; height: 1em; margin: 0; vertical-align: middle; border: 1px solid #555; background-color: #00000000;\"></div></div><div style=\"float: right;\">over <div title=\"#ffc0cbff\" style=\"display: inline-block; width: 1em; height: 1em; margin: 0; vertical-align: middle; border: 1px solid #555; background-color: #ffc0cbff;\"></div></div>"
      ],
      "text/plain": [
       "<matplotlib.colors.LinearSegmentedColormap at 0x1c23a911750>"
      ]
     },
     "execution_count": 140,
     "metadata": {},
     "output_type": "execute_result"
    }
   ],
   "source": [
    "cm"
   ]
  },
  {
   "cell_type": "code",
   "execution_count": 141,
   "metadata": {},
   "outputs": [],
   "source": [
    "\n",
    "s = df.style.background_gradient(cmap=cm)\n"
   ]
  },
  {
   "cell_type": "code",
   "execution_count": 144,
   "metadata": {},
   "outputs": [
    {
     "ename": "ImportError",
     "evalue": "background_gradient requires matplotlib.",
     "output_type": "error",
     "traceback": [
      "\u001b[1;31m---------------------------------------------------------------------------\u001b[0m",
      "\u001b[1;31mImportError\u001b[0m                               Traceback (most recent call last)",
      "File \u001b[1;32mC:\\ProgramData\\miniconda3\\envs\\pythonCYBR520\\Lib\\site-packages\\IPython\\core\\formatters.py:344\u001b[0m, in \u001b[0;36mBaseFormatter.__call__\u001b[1;34m(self, obj)\u001b[0m\n\u001b[0;32m    342\u001b[0m     method \u001b[38;5;241m=\u001b[39m get_real_method(obj, \u001b[38;5;28mself\u001b[39m\u001b[38;5;241m.\u001b[39mprint_method)\n\u001b[0;32m    343\u001b[0m     \u001b[38;5;28;01mif\u001b[39;00m method \u001b[38;5;129;01mis\u001b[39;00m \u001b[38;5;129;01mnot\u001b[39;00m \u001b[38;5;28;01mNone\u001b[39;00m:\n\u001b[1;32m--> 344\u001b[0m         \u001b[38;5;28;01mreturn\u001b[39;00m method()\n\u001b[0;32m    345\u001b[0m     \u001b[38;5;28;01mreturn\u001b[39;00m \u001b[38;5;28;01mNone\u001b[39;00m\n\u001b[0;32m    346\u001b[0m \u001b[38;5;28;01melse\u001b[39;00m:\n",
      "File \u001b[1;32mC:\\ProgramData\\miniconda3\\envs\\pythonCYBR520\\Lib\\site-packages\\pandas\\io\\formats\\style.py:408\u001b[0m, in \u001b[0;36mStyler._repr_html_\u001b[1;34m(self)\u001b[0m\n\u001b[0;32m    403\u001b[0m \u001b[38;5;250m\u001b[39m\u001b[38;5;124;03m\"\"\"\u001b[39;00m\n\u001b[0;32m    404\u001b[0m \u001b[38;5;124;03mHooks into Jupyter notebook rich display system, which calls _repr_html_ by\u001b[39;00m\n\u001b[0;32m    405\u001b[0m \u001b[38;5;124;03mdefault if an object is returned at the end of a cell.\u001b[39;00m\n\u001b[0;32m    406\u001b[0m \u001b[38;5;124;03m\"\"\"\u001b[39;00m\n\u001b[0;32m    407\u001b[0m \u001b[38;5;28;01mif\u001b[39;00m get_option(\u001b[38;5;124m\"\u001b[39m\u001b[38;5;124mstyler.render.repr\u001b[39m\u001b[38;5;124m\"\u001b[39m) \u001b[38;5;241m==\u001b[39m \u001b[38;5;124m\"\u001b[39m\u001b[38;5;124mhtml\u001b[39m\u001b[38;5;124m\"\u001b[39m:\n\u001b[1;32m--> 408\u001b[0m     \u001b[38;5;28;01mreturn\u001b[39;00m \u001b[38;5;28mself\u001b[39m\u001b[38;5;241m.\u001b[39mto_html()\n\u001b[0;32m    409\u001b[0m \u001b[38;5;28;01mreturn\u001b[39;00m \u001b[38;5;28;01mNone\u001b[39;00m\n",
      "File \u001b[1;32mC:\\ProgramData\\miniconda3\\envs\\pythonCYBR520\\Lib\\site-packages\\pandas\\io\\formats\\style.py:1348\u001b[0m, in \u001b[0;36mStyler.to_html\u001b[1;34m(self, buf, table_uuid, table_attributes, sparse_index, sparse_columns, bold_headers, caption, max_rows, max_columns, encoding, doctype_html, exclude_styles, **kwargs)\u001b[0m\n\u001b[0;32m   1345\u001b[0m     obj\u001b[38;5;241m.\u001b[39mset_caption(caption)\n\u001b[0;32m   1347\u001b[0m \u001b[38;5;66;03m# Build HTML string..\u001b[39;00m\n\u001b[1;32m-> 1348\u001b[0m html \u001b[38;5;241m=\u001b[39m obj\u001b[38;5;241m.\u001b[39m_render_html(\n\u001b[0;32m   1349\u001b[0m     sparse_index\u001b[38;5;241m=\u001b[39msparse_index,\n\u001b[0;32m   1350\u001b[0m     sparse_columns\u001b[38;5;241m=\u001b[39msparse_columns,\n\u001b[0;32m   1351\u001b[0m     max_rows\u001b[38;5;241m=\u001b[39mmax_rows,\n\u001b[0;32m   1352\u001b[0m     max_cols\u001b[38;5;241m=\u001b[39mmax_columns,\n\u001b[0;32m   1353\u001b[0m     exclude_styles\u001b[38;5;241m=\u001b[39mexclude_styles,\n\u001b[0;32m   1354\u001b[0m     encoding\u001b[38;5;241m=\u001b[39mencoding \u001b[38;5;129;01mor\u001b[39;00m get_option(\u001b[38;5;124m\"\u001b[39m\u001b[38;5;124mstyler.render.encoding\u001b[39m\u001b[38;5;124m\"\u001b[39m),\n\u001b[0;32m   1355\u001b[0m     doctype_html\u001b[38;5;241m=\u001b[39mdoctype_html,\n\u001b[0;32m   1356\u001b[0m     \u001b[38;5;241m*\u001b[39m\u001b[38;5;241m*\u001b[39mkwargs,\n\u001b[0;32m   1357\u001b[0m )\n\u001b[0;32m   1359\u001b[0m \u001b[38;5;28;01mreturn\u001b[39;00m save_to_buffer(\n\u001b[0;32m   1360\u001b[0m     html, buf\u001b[38;5;241m=\u001b[39mbuf, encoding\u001b[38;5;241m=\u001b[39m(encoding \u001b[38;5;28;01mif\u001b[39;00m buf \u001b[38;5;129;01mis\u001b[39;00m \u001b[38;5;129;01mnot\u001b[39;00m \u001b[38;5;28;01mNone\u001b[39;00m \u001b[38;5;28;01melse\u001b[39;00m \u001b[38;5;28;01mNone\u001b[39;00m)\n\u001b[0;32m   1361\u001b[0m )\n",
      "File \u001b[1;32mC:\\ProgramData\\miniconda3\\envs\\pythonCYBR520\\Lib\\site-packages\\pandas\\io\\formats\\style_render.py:204\u001b[0m, in \u001b[0;36mStylerRenderer._render_html\u001b[1;34m(self, sparse_index, sparse_columns, max_rows, max_cols, **kwargs)\u001b[0m\n\u001b[0;32m    192\u001b[0m \u001b[38;5;28;01mdef\u001b[39;00m \u001b[38;5;21m_render_html\u001b[39m(\n\u001b[0;32m    193\u001b[0m     \u001b[38;5;28mself\u001b[39m,\n\u001b[0;32m    194\u001b[0m     sparse_index: \u001b[38;5;28mbool\u001b[39m,\n\u001b[1;32m   (...)\u001b[0m\n\u001b[0;32m    198\u001b[0m     \u001b[38;5;241m*\u001b[39m\u001b[38;5;241m*\u001b[39mkwargs,\n\u001b[0;32m    199\u001b[0m ) \u001b[38;5;241m-\u001b[39m\u001b[38;5;241m>\u001b[39m \u001b[38;5;28mstr\u001b[39m:\n\u001b[0;32m    200\u001b[0m \u001b[38;5;250m    \u001b[39m\u001b[38;5;124;03m\"\"\"\u001b[39;00m\n\u001b[0;32m    201\u001b[0m \u001b[38;5;124;03m    Renders the ``Styler`` including all applied styles to HTML.\u001b[39;00m\n\u001b[0;32m    202\u001b[0m \u001b[38;5;124;03m    Generates a dict with necessary kwargs passed to jinja2 template.\u001b[39;00m\n\u001b[0;32m    203\u001b[0m \u001b[38;5;124;03m    \"\"\"\u001b[39;00m\n\u001b[1;32m--> 204\u001b[0m     d \u001b[38;5;241m=\u001b[39m \u001b[38;5;28mself\u001b[39m\u001b[38;5;241m.\u001b[39m_render(sparse_index, sparse_columns, max_rows, max_cols, \u001b[38;5;124m\"\u001b[39m\u001b[38;5;124m&nbsp;\u001b[39m\u001b[38;5;124m\"\u001b[39m)\n\u001b[0;32m    205\u001b[0m     d\u001b[38;5;241m.\u001b[39mupdate(kwargs)\n\u001b[0;32m    206\u001b[0m     \u001b[38;5;28;01mreturn\u001b[39;00m \u001b[38;5;28mself\u001b[39m\u001b[38;5;241m.\u001b[39mtemplate_html\u001b[38;5;241m.\u001b[39mrender(\n\u001b[0;32m    207\u001b[0m         \u001b[38;5;241m*\u001b[39m\u001b[38;5;241m*\u001b[39md,\n\u001b[0;32m    208\u001b[0m         html_table_tpl\u001b[38;5;241m=\u001b[39m\u001b[38;5;28mself\u001b[39m\u001b[38;5;241m.\u001b[39mtemplate_html_table,\n\u001b[0;32m    209\u001b[0m         html_style_tpl\u001b[38;5;241m=\u001b[39m\u001b[38;5;28mself\u001b[39m\u001b[38;5;241m.\u001b[39mtemplate_html_style,\n\u001b[0;32m    210\u001b[0m     )\n",
      "File \u001b[1;32mC:\\ProgramData\\miniconda3\\envs\\pythonCYBR520\\Lib\\site-packages\\pandas\\io\\formats\\style_render.py:161\u001b[0m, in \u001b[0;36mStylerRenderer._render\u001b[1;34m(self, sparse_index, sparse_columns, max_rows, max_cols, blank)\u001b[0m\n\u001b[0;32m    147\u001b[0m \u001b[38;5;28;01mdef\u001b[39;00m \u001b[38;5;21m_render\u001b[39m(\n\u001b[0;32m    148\u001b[0m     \u001b[38;5;28mself\u001b[39m,\n\u001b[0;32m    149\u001b[0m     sparse_index: \u001b[38;5;28mbool\u001b[39m,\n\u001b[1;32m   (...)\u001b[0m\n\u001b[0;32m    153\u001b[0m     blank: \u001b[38;5;28mstr\u001b[39m \u001b[38;5;241m=\u001b[39m \u001b[38;5;124m\"\u001b[39m\u001b[38;5;124m\"\u001b[39m,\n\u001b[0;32m    154\u001b[0m ):\n\u001b[0;32m    155\u001b[0m \u001b[38;5;250m    \u001b[39m\u001b[38;5;124;03m\"\"\"\u001b[39;00m\n\u001b[0;32m    156\u001b[0m \u001b[38;5;124;03m    Computes and applies styles and then generates the general render dicts.\u001b[39;00m\n\u001b[0;32m    157\u001b[0m \n\u001b[0;32m    158\u001b[0m \u001b[38;5;124;03m    Also extends the `ctx` and `ctx_index` attributes with those of concatenated\u001b[39;00m\n\u001b[0;32m    159\u001b[0m \u001b[38;5;124;03m    stylers for use within `_translate_latex`\u001b[39;00m\n\u001b[0;32m    160\u001b[0m \u001b[38;5;124;03m    \"\"\"\u001b[39;00m\n\u001b[1;32m--> 161\u001b[0m     \u001b[38;5;28mself\u001b[39m\u001b[38;5;241m.\u001b[39m_compute()\n\u001b[0;32m    162\u001b[0m     dxs \u001b[38;5;241m=\u001b[39m []\n\u001b[0;32m    163\u001b[0m     ctx_len \u001b[38;5;241m=\u001b[39m \u001b[38;5;28mlen\u001b[39m(\u001b[38;5;28mself\u001b[39m\u001b[38;5;241m.\u001b[39mindex)\n",
      "File \u001b[1;32mC:\\ProgramData\\miniconda3\\envs\\pythonCYBR520\\Lib\\site-packages\\pandas\\io\\formats\\style_render.py:256\u001b[0m, in \u001b[0;36mStylerRenderer._compute\u001b[1;34m(self)\u001b[0m\n\u001b[0;32m    254\u001b[0m r \u001b[38;5;241m=\u001b[39m \u001b[38;5;28mself\u001b[39m\n\u001b[0;32m    255\u001b[0m \u001b[38;5;28;01mfor\u001b[39;00m func, args, kwargs \u001b[38;5;129;01min\u001b[39;00m \u001b[38;5;28mself\u001b[39m\u001b[38;5;241m.\u001b[39m_todo:\n\u001b[1;32m--> 256\u001b[0m     r \u001b[38;5;241m=\u001b[39m func(\u001b[38;5;28mself\u001b[39m)(\u001b[38;5;241m*\u001b[39margs, \u001b[38;5;241m*\u001b[39m\u001b[38;5;241m*\u001b[39mkwargs)\n\u001b[0;32m    257\u001b[0m \u001b[38;5;28;01mreturn\u001b[39;00m r\n",
      "File \u001b[1;32mC:\\ProgramData\\miniconda3\\envs\\pythonCYBR520\\Lib\\site-packages\\pandas\\io\\formats\\style.py:1729\u001b[0m, in \u001b[0;36mStyler._apply\u001b[1;34m(self, func, axis, subset, **kwargs)\u001b[0m\n\u001b[0;32m   1727\u001b[0m axis \u001b[38;5;241m=\u001b[39m \u001b[38;5;28mself\u001b[39m\u001b[38;5;241m.\u001b[39mdata\u001b[38;5;241m.\u001b[39m_get_axis_number(axis)\n\u001b[0;32m   1728\u001b[0m \u001b[38;5;28;01mif\u001b[39;00m axis \u001b[38;5;241m==\u001b[39m \u001b[38;5;241m0\u001b[39m:\n\u001b[1;32m-> 1729\u001b[0m     result \u001b[38;5;241m=\u001b[39m data\u001b[38;5;241m.\u001b[39mapply(func, axis\u001b[38;5;241m=\u001b[39m\u001b[38;5;241m0\u001b[39m, \u001b[38;5;241m*\u001b[39m\u001b[38;5;241m*\u001b[39mkwargs)\n\u001b[0;32m   1730\u001b[0m \u001b[38;5;28;01melse\u001b[39;00m:\n\u001b[0;32m   1731\u001b[0m     result \u001b[38;5;241m=\u001b[39m data\u001b[38;5;241m.\u001b[39mT\u001b[38;5;241m.\u001b[39mapply(func, axis\u001b[38;5;241m=\u001b[39m\u001b[38;5;241m0\u001b[39m, \u001b[38;5;241m*\u001b[39m\u001b[38;5;241m*\u001b[39mkwargs)\u001b[38;5;241m.\u001b[39mT  \u001b[38;5;66;03m# see GH 42005\u001b[39;00m\n",
      "File \u001b[1;32mC:\\ProgramData\\miniconda3\\envs\\pythonCYBR520\\Lib\\site-packages\\pandas\\core\\frame.py:10037\u001b[0m, in \u001b[0;36mDataFrame.apply\u001b[1;34m(self, func, axis, raw, result_type, args, by_row, **kwargs)\u001b[0m\n\u001b[0;32m  10025\u001b[0m \u001b[38;5;28;01mfrom\u001b[39;00m \u001b[38;5;21;01mpandas\u001b[39;00m\u001b[38;5;21;01m.\u001b[39;00m\u001b[38;5;21;01mcore\u001b[39;00m\u001b[38;5;21;01m.\u001b[39;00m\u001b[38;5;21;01mapply\u001b[39;00m \u001b[38;5;28;01mimport\u001b[39;00m frame_apply\n\u001b[0;32m  10027\u001b[0m op \u001b[38;5;241m=\u001b[39m frame_apply(\n\u001b[0;32m  10028\u001b[0m     \u001b[38;5;28mself\u001b[39m,\n\u001b[0;32m  10029\u001b[0m     func\u001b[38;5;241m=\u001b[39mfunc,\n\u001b[1;32m   (...)\u001b[0m\n\u001b[0;32m  10035\u001b[0m     kwargs\u001b[38;5;241m=\u001b[39mkwargs,\n\u001b[0;32m  10036\u001b[0m )\n\u001b[1;32m> 10037\u001b[0m \u001b[38;5;28;01mreturn\u001b[39;00m op\u001b[38;5;241m.\u001b[39mapply()\u001b[38;5;241m.\u001b[39m__finalize__(\u001b[38;5;28mself\u001b[39m, method\u001b[38;5;241m=\u001b[39m\u001b[38;5;124m\"\u001b[39m\u001b[38;5;124mapply\u001b[39m\u001b[38;5;124m\"\u001b[39m)\n",
      "File \u001b[1;32mC:\\ProgramData\\miniconda3\\envs\\pythonCYBR520\\Lib\\site-packages\\pandas\\core\\apply.py:837\u001b[0m, in \u001b[0;36mFrameApply.apply\u001b[1;34m(self)\u001b[0m\n\u001b[0;32m    834\u001b[0m \u001b[38;5;28;01melif\u001b[39;00m \u001b[38;5;28mself\u001b[39m\u001b[38;5;241m.\u001b[39mraw:\n\u001b[0;32m    835\u001b[0m     \u001b[38;5;28;01mreturn\u001b[39;00m \u001b[38;5;28mself\u001b[39m\u001b[38;5;241m.\u001b[39mapply_raw()\n\u001b[1;32m--> 837\u001b[0m \u001b[38;5;28;01mreturn\u001b[39;00m \u001b[38;5;28mself\u001b[39m\u001b[38;5;241m.\u001b[39mapply_standard()\n",
      "File \u001b[1;32mC:\\ProgramData\\miniconda3\\envs\\pythonCYBR520\\Lib\\site-packages\\pandas\\core\\apply.py:963\u001b[0m, in \u001b[0;36mFrameApply.apply_standard\u001b[1;34m(self)\u001b[0m\n\u001b[0;32m    962\u001b[0m \u001b[38;5;28;01mdef\u001b[39;00m \u001b[38;5;21mapply_standard\u001b[39m(\u001b[38;5;28mself\u001b[39m):\n\u001b[1;32m--> 963\u001b[0m     results, res_index \u001b[38;5;241m=\u001b[39m \u001b[38;5;28mself\u001b[39m\u001b[38;5;241m.\u001b[39mapply_series_generator()\n\u001b[0;32m    965\u001b[0m     \u001b[38;5;66;03m# wrap results\u001b[39;00m\n\u001b[0;32m    966\u001b[0m     \u001b[38;5;28;01mreturn\u001b[39;00m \u001b[38;5;28mself\u001b[39m\u001b[38;5;241m.\u001b[39mwrap_results(results, res_index)\n",
      "File \u001b[1;32mC:\\ProgramData\\miniconda3\\envs\\pythonCYBR520\\Lib\\site-packages\\pandas\\core\\apply.py:979\u001b[0m, in \u001b[0;36mFrameApply.apply_series_generator\u001b[1;34m(self)\u001b[0m\n\u001b[0;32m    976\u001b[0m \u001b[38;5;28;01mwith\u001b[39;00m option_context(\u001b[38;5;124m\"\u001b[39m\u001b[38;5;124mmode.chained_assignment\u001b[39m\u001b[38;5;124m\"\u001b[39m, \u001b[38;5;28;01mNone\u001b[39;00m):\n\u001b[0;32m    977\u001b[0m     \u001b[38;5;28;01mfor\u001b[39;00m i, v \u001b[38;5;129;01min\u001b[39;00m \u001b[38;5;28menumerate\u001b[39m(series_gen):\n\u001b[0;32m    978\u001b[0m         \u001b[38;5;66;03m# ignore SettingWithCopy here in case the user mutates\u001b[39;00m\n\u001b[1;32m--> 979\u001b[0m         results[i] \u001b[38;5;241m=\u001b[39m \u001b[38;5;28mself\u001b[39m\u001b[38;5;241m.\u001b[39mfunc(v, \u001b[38;5;241m*\u001b[39m\u001b[38;5;28mself\u001b[39m\u001b[38;5;241m.\u001b[39margs, \u001b[38;5;241m*\u001b[39m\u001b[38;5;241m*\u001b[39m\u001b[38;5;28mself\u001b[39m\u001b[38;5;241m.\u001b[39mkwargs)\n\u001b[0;32m    980\u001b[0m         \u001b[38;5;28;01mif\u001b[39;00m \u001b[38;5;28misinstance\u001b[39m(results[i], ABCSeries):\n\u001b[0;32m    981\u001b[0m             \u001b[38;5;66;03m# If we have a view on v, we need to make a copy because\u001b[39;00m\n\u001b[0;32m    982\u001b[0m             \u001b[38;5;66;03m#  series_generator will swap out the underlying data\u001b[39;00m\n\u001b[0;32m    983\u001b[0m             results[i] \u001b[38;5;241m=\u001b[39m results[i]\u001b[38;5;241m.\u001b[39mcopy(deep\u001b[38;5;241m=\u001b[39m\u001b[38;5;28;01mFalse\u001b[39;00m)\n",
      "File \u001b[1;32mC:\\ProgramData\\miniconda3\\envs\\pythonCYBR520\\Lib\\site-packages\\pandas\\io\\formats\\style.py:3818\u001b[0m, in \u001b[0;36m_background_gradient\u001b[1;34m(data, cmap, low, high, text_color_threshold, vmin, vmax, gmap, text_only)\u001b[0m\n\u001b[0;32m   3815\u001b[0m \u001b[38;5;28;01melse\u001b[39;00m:  \u001b[38;5;66;03m# else validate gmap against the underlying data\u001b[39;00m\n\u001b[0;32m   3816\u001b[0m     gmap \u001b[38;5;241m=\u001b[39m _validate_apply_axis_arg(gmap, \u001b[38;5;124m\"\u001b[39m\u001b[38;5;124mgmap\u001b[39m\u001b[38;5;124m\"\u001b[39m, \u001b[38;5;28mfloat\u001b[39m, data)\n\u001b[1;32m-> 3818\u001b[0m \u001b[38;5;28;01mwith\u001b[39;00m _mpl(Styler\u001b[38;5;241m.\u001b[39mbackground_gradient) \u001b[38;5;28;01mas\u001b[39;00m (_, _matplotlib):\n\u001b[0;32m   3819\u001b[0m     smin \u001b[38;5;241m=\u001b[39m np\u001b[38;5;241m.\u001b[39mnanmin(gmap) \u001b[38;5;28;01mif\u001b[39;00m vmin \u001b[38;5;129;01mis\u001b[39;00m \u001b[38;5;28;01mNone\u001b[39;00m \u001b[38;5;28;01melse\u001b[39;00m vmin\n\u001b[0;32m   3820\u001b[0m     smax \u001b[38;5;241m=\u001b[39m np\u001b[38;5;241m.\u001b[39mnanmax(gmap) \u001b[38;5;28;01mif\u001b[39;00m vmax \u001b[38;5;129;01mis\u001b[39;00m \u001b[38;5;28;01mNone\u001b[39;00m \u001b[38;5;28;01melse\u001b[39;00m vmax\n",
      "File \u001b[1;32mC:\\ProgramData\\miniconda3\\envs\\pythonCYBR520\\Lib\\contextlib.py:137\u001b[0m, in \u001b[0;36m_GeneratorContextManager.__enter__\u001b[1;34m(self)\u001b[0m\n\u001b[0;32m    135\u001b[0m \u001b[38;5;28;01mdel\u001b[39;00m \u001b[38;5;28mself\u001b[39m\u001b[38;5;241m.\u001b[39margs, \u001b[38;5;28mself\u001b[39m\u001b[38;5;241m.\u001b[39mkwds, \u001b[38;5;28mself\u001b[39m\u001b[38;5;241m.\u001b[39mfunc\n\u001b[0;32m    136\u001b[0m \u001b[38;5;28;01mtry\u001b[39;00m:\n\u001b[1;32m--> 137\u001b[0m     \u001b[38;5;28;01mreturn\u001b[39;00m \u001b[38;5;28mnext\u001b[39m(\u001b[38;5;28mself\u001b[39m\u001b[38;5;241m.\u001b[39mgen)\n\u001b[0;32m    138\u001b[0m \u001b[38;5;28;01mexcept\u001b[39;00m \u001b[38;5;167;01mStopIteration\u001b[39;00m:\n\u001b[0;32m    139\u001b[0m     \u001b[38;5;28;01mraise\u001b[39;00m \u001b[38;5;167;01mRuntimeError\u001b[39;00m(\u001b[38;5;124m\"\u001b[39m\u001b[38;5;124mgenerator didn\u001b[39m\u001b[38;5;124m'\u001b[39m\u001b[38;5;124mt yield\u001b[39m\u001b[38;5;124m\"\u001b[39m) \u001b[38;5;28;01mfrom\u001b[39;00m \u001b[38;5;28;01mNone\u001b[39;00m\n",
      "File \u001b[1;32mC:\\ProgramData\\miniconda3\\envs\\pythonCYBR520\\Lib\\site-packages\\pandas\\io\\formats\\style.py:98\u001b[0m, in \u001b[0;36m_mpl\u001b[1;34m(func)\u001b[0m\n\u001b[0;32m     96\u001b[0m     \u001b[38;5;28;01myield\u001b[39;00m plt, mpl\n\u001b[0;32m     97\u001b[0m \u001b[38;5;28;01melse\u001b[39;00m:\n\u001b[1;32m---> 98\u001b[0m     \u001b[38;5;28;01mraise\u001b[39;00m \u001b[38;5;167;01mImportError\u001b[39;00m(\u001b[38;5;124mf\u001b[39m\u001b[38;5;124m\"\u001b[39m\u001b[38;5;132;01m{\u001b[39;00mfunc\u001b[38;5;241m.\u001b[39m\u001b[38;5;18m__name__\u001b[39m\u001b[38;5;132;01m}\u001b[39;00m\u001b[38;5;124m requires matplotlib.\u001b[39m\u001b[38;5;124m\"\u001b[39m)\n",
      "\u001b[1;31mImportError\u001b[0m: background_gradient requires matplotlib."
     ]
    },
    {
     "data": {
      "text/plain": [
       "<pandas.io.formats.style.Styler at 0x1c23a95d910>"
      ]
     },
     "execution_count": 144,
     "metadata": {},
     "output_type": "execute_result"
    }
   ],
   "source": [
    "s"
   ]
  },
  {
   "cell_type": "code",
   "execution_count": 143,
   "metadata": {},
   "outputs": [],
   "source": [
    "import matplotlib"
   ]
  },
  {
   "cell_type": "code",
   "execution_count": 0,
   "metadata": {
    "colab": {
     "base_uri": "https://localhost:8080/",
     "height": 34
    },
    "colab_type": "code",
    "id": "3cIAiFAsmxvJ",
    "outputId": "a4bcdd75-9222-47c5-8264-068a7968d60f"
   },
   "outputs": [
    {
     "name": "stdout",
     "output_type": "stream",
     "text": [
      "Mental Health Diseases: Social Anxiety Disorder\n"
     ]
    }
   ],
   "source": [
    "class Disease:\n",
    "  def __init__(self, disease = 'Depression'):\n",
    "    self.type = disease\n",
    "    \n",
    "  def getName(self):\n",
    "    print(\"Mental Health Diseases: {0}\".format(self.type))\n",
    "\n",
    "d1 = Disease('Social Anxiety Disorder')\n",
    "d1.getName()"
   ]
  },
  {
   "cell_type": "code",
   "execution_count": 0,
   "metadata": {
    "colab": {
     "base_uri": "https://localhost:8080/",
     "height": 51
    },
    "colab_type": "code",
    "id": "3Nfj3YSbm905",
    "outputId": "6acd1884-87cd-4de3-9fbf-e84b3d5a8d3c"
   },
   "outputs": [
    {
     "name": "stdout",
     "output_type": "stream",
     "text": [
      "Type a number between 1 and 10:333\n",
      "The value you typed is incorrect!\n"
     ]
    }
   ],
   "source": [
    "try:\n",
    "  Value = int(input(\"Type a number between 1 and 10:\"))\n",
    "except ValueError:\n",
    "   print(\"You must type a number between 1 and 10!\")\n",
    "else:\n",
    "   if (Value > 0) and (Value <= 10):\n",
    "       print(\"You typed: \", Value)\n",
    "   else:\n",
    "       print(\"The value you typed is incorrect!\")"
   ]
  }
 ],
 "metadata": {
  "colab": {
   "collapsed_sections": [],
   "name": "Numpy and Pandas.ipynb",
   "provenance": []
  },
  "kernelspec": {
   "display_name": "Python 3 (ipykernel)",
   "language": "python",
   "name": "python3"
  },
  "language_info": {
   "codemirror_mode": {
    "name": "ipython",
    "version": 3
   },
   "file_extension": ".py",
   "mimetype": "text/x-python",
   "name": "python",
   "nbconvert_exporter": "python",
   "pygments_lexer": "ipython3",
   "version": "3.11.5"
  }
 },
 "nbformat": 4,
 "nbformat_minor": 1
}
