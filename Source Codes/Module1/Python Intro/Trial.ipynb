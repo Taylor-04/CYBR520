{
 "cells": [
  {
   "cell_type": "code",
   "execution_count": 1,
   "id": "1e8d2e52",
   "metadata": {},
   "outputs": [
    {
     "name": "stdout",
     "output_type": "stream",
     "text": [
      "Hello\n"
     ]
    }
   ],
   "source": [
    "print('Hello')"
   ]
  },
  {
   "cell_type": "code",
   "execution_count": 4,
   "id": "f88f521c",
   "metadata": {},
   "outputs": [],
   "source": [
    "# defind a nwe variable\n",
    "val1 = 6"
   ]
  },
  {
   "cell_type": "code",
   "execution_count": 18,
   "id": "53115308",
   "metadata": {},
   "outputs": [],
   "source": [
    "# defind a nwe variable\n",
    "val2 = 20"
   ]
  },
  {
   "cell_type": "code",
   "execution_count": 19,
   "id": "fc35d2f0",
   "metadata": {},
   "outputs": [
    {
     "name": "stdout",
     "output_type": "stream",
     "text": [
      "6\n"
     ]
    }
   ],
   "source": [
    "print(val1)"
   ]
  },
  {
   "cell_type": "code",
   "execution_count": 20,
   "id": "84ab9575",
   "metadata": {},
   "outputs": [
    {
     "name": "stdout",
     "output_type": "stream",
     "text": [
      "20\n"
     ]
    }
   ],
   "source": [
    "print(val2)"
   ]
  },
  {
   "cell_type": "code",
   "execution_count": 21,
   "id": "f4a6d64b",
   "metadata": {},
   "outputs": [
    {
     "name": "stdout",
     "output_type": "stream",
     "text": [
      "Value 2 is greater than value 1\n"
     ]
    }
   ],
   "source": [
    "# Check whether values are equal or not.\n",
    "if val1 > val2:\n",
    "    print(\"Value 1 is greater than value 2\")\n",
    "elif val2 > val1:\n",
    "    print(\"Value 2 is greater than value 1\")\n",
    "else:\n",
    "    print(\"Value 1 is equal to value 2\")"
   ]
  },
  {
   "cell_type": "code",
   "execution_count": null,
   "id": "37f594f5",
   "metadata": {},
   "outputs": [],
   "source": []
  }
 ],
 "metadata": {
  "kernelspec": {
   "display_name": "Python 3 (ipykernel)",
   "language": "python",
   "name": "python3"
  },
  "language_info": {
   "codemirror_mode": {
    "name": "ipython",
    "version": 3
   },
   "file_extension": ".py",
   "mimetype": "text/x-python",
   "name": "python",
   "nbconvert_exporter": "python",
   "pygments_lexer": "ipython3",
   "version": "3.11.5"
  }
 },
 "nbformat": 4,
 "nbformat_minor": 5
}
